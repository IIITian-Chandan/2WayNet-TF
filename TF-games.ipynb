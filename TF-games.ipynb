{
 "cells": [
  {
   "cell_type": "code",
   "execution_count": null,
   "metadata": {},
   "outputs": [],
   "source": [
    "import importlib\n",
    "import layers.tied\n",
    "importlib.reload(layers)\n",
    "import tensorflow as tf\n",
    "import datetime\n",
    "#tf.enable_eager_execution()\n",
    "print(tf.__version__)\n",
    "from tensorflow.keras.callbacks import TensorBoard"
   ]
  },
  {
   "cell_type": "code",
   "execution_count": null,
   "metadata": {},
   "outputs": [],
   "source": [
    "#layers.tied._test_TiedDenseLayer()\n",
    "layers.tied._test_TiedDropoutLayer()\n"
   ]
  },
  {
   "cell_type": "code",
   "execution_count": null,
   "metadata": {},
   "outputs": [],
   "source": [
    "def eval_tensor(t):\n",
    "    return tf.Session().run(t)\n",
    "shape = (10,10)\n",
    "x = tf.ones(shape=shape)\n",
    "n = tf.math.reduce_sum(x)\n",
    "eval_tensor(n)"
   ]
  },
  {
   "cell_type": "code",
   "execution_count": null,
   "metadata": {},
   "outputs": [],
   "source": [
    "0.75 ** 3\n"
   ]
  },
  {
   "cell_type": "code",
   "execution_count": null,
   "metadata": {},
   "outputs": [],
   "source": [
    "Rx = layers.tied.tensor2const(tf.ones([1, 10, 10]))\n",
    "Ry = layers.tied.tensor2const(tf.ones([1, 10, 10]))\n",
    "\n",
    "rate = 0.5\n",
    "inputs = tf.keras.Input(shape=(10, 10))\n",
    "#TD1 = tf.layers.Dropout(rate=rate)\n",
    "TD1 = layers.tied.TiedDropoutLayer()\n",
    "TD1.build(inputs.shape)\n",
    "TD2 = layers.tied.TiedDropoutLayer(tied_mask_variable=TD1.get_mask_varible())\n",
    "outputs = TD2(TD1(inputs))\n",
    "\n",
    "model = tf.keras.Model(inputs=inputs, outputs=outputs)\n",
    "optimizer = tf.train.MomentumOptimizer(use_nesterov=True, learning_rate=0.001, momentum=0.8)\n",
    "model.compile(optimizer, loss='mean_squared_error')\n",
    "\n",
    "log_dir = \"/tmp/logs/fit/\" + datetime.datetime.now().strftime(\"%Y%m%d-%H%M%S\")\n",
    "tensorboard_callback = tf.keras.callbacks.TensorBoard(log_dir=log_dir)\n",
    "model.fit(Rx, Ry, epochs=100, steps_per_epoch=1, callbacks=[tensorboard_callback])\n"
   ]
  },
  {
   "cell_type": "code",
   "execution_count": null,
   "metadata": {},
   "outputs": [],
   "source": [
    "0.75**2"
   ]
  },
  {
   "cell_type": "code",
   "execution_count": null,
   "metadata": {},
   "outputs": [],
   "source": []
  }
 ],
 "metadata": {
  "kernelspec": {
   "display_name": "Python 3",
   "language": "python",
   "name": "python3"
  }
 },
 "nbformat": 4,
 "nbformat_minor": 2
}
