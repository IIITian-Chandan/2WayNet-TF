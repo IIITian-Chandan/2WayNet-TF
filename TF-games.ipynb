{
 "cells": [
  {
   "cell_type": "code",
   "execution_count": 1,
   "metadata": {},
   "outputs": [
    {
     "name": "stdout",
     "output_type": "stream",
     "text": [
      "1.12.0\n"
     ]
    }
   ],
   "source": [
    "import importlib\n",
    "import layers.tied\n",
    "importlib.reload(layers)\n",
    "import tensorflow as tf\n",
    "#tf.enable_eager_execution()\n",
    "print(tf.__version__)"
   ]
  },
  {
   "cell_type": "code",
   "execution_count": 18,
   "metadata": {},
   "outputs": [],
   "source": [
    "def eval_tensor(t):\n",
    "    return tf.Session().run(t)\n",
    "\n",
    "def tensor2const(t):\n",
    "    return tf.constant(eval_tensor(t))\n",
    "\n",
    "\n",
    "Rx = tensor2const(tf.random.uniform([1,100]))\n",
    "Ry = tensor2const(tf.random.uniform([1,50]))\n",
    "TDxy = layers.tied.TiedDenseLayer(units=50) \n",
    "TDyx = layers.tied.TiedDenseLayer(units=100)\n",
    "\n"
   ]
  },
  {
   "cell_type": "code",
   "execution_count": 31,
   "metadata": {},
   "outputs": [
    {
     "name": "stdout",
     "output_type": "stream",
     "text": [
      "Epoch 1/50\n",
      "1/1 [==============================] - 1s 555ms/step - loss: 0.4154\n",
      "Epoch 2/50\n",
      "1/1 [==============================] - 0s 3ms/step - loss: 0.4147\n",
      "Epoch 3/50\n",
      "1/1 [==============================] - 0s 3ms/step - loss: 0.4137\n",
      "Epoch 4/50\n",
      "1/1 [==============================] - 0s 3ms/step - loss: 0.4126\n",
      "Epoch 5/50\n",
      "1/1 [==============================] - 0s 3ms/step - loss: 0.4113\n",
      "Epoch 6/50\n",
      "1/1 [==============================] - 0s 3ms/step - loss: 0.4099\n",
      "Epoch 7/50\n",
      "1/1 [==============================] - 0s 4ms/step - loss: 0.4084\n",
      "Epoch 8/50\n",
      "1/1 [==============================] - 0s 3ms/step - loss: 0.4068\n",
      "Epoch 9/50\n",
      "1/1 [==============================] - 0s 3ms/step - loss: 0.4052\n",
      "Epoch 10/50\n",
      "1/1 [==============================] - 0s 3ms/step - loss: 0.4035\n",
      "Epoch 11/50\n",
      "1/1 [==============================] - 0s 4ms/step - loss: 0.4018\n",
      "Epoch 12/50\n",
      "1/1 [==============================] - 0s 4ms/step - loss: 0.4001\n",
      "Epoch 13/50\n",
      "1/1 [==============================] - 0s 7ms/step - loss: 0.3984\n",
      "Epoch 14/50\n",
      "1/1 [==============================] - 0s 3ms/step - loss: 0.3967\n",
      "Epoch 15/50\n",
      "1/1 [==============================] - 0s 4ms/step - loss: 0.3950\n",
      "Epoch 16/50\n",
      "1/1 [==============================] - 0s 4ms/step - loss: 0.3933\n",
      "Epoch 17/50\n",
      "1/1 [==============================] - 0s 5ms/step - loss: 0.3916\n",
      "Epoch 18/50\n",
      "1/1 [==============================] - 0s 7ms/step - loss: 0.3899\n",
      "Epoch 19/50\n",
      "1/1 [==============================] - 0s 3ms/step - loss: 0.3882\n",
      "Epoch 20/50\n",
      "1/1 [==============================] - 0s 5ms/step - loss: 0.3865\n",
      "Epoch 21/50\n",
      "1/1 [==============================] - 0s 3ms/step - loss: 0.3848\n",
      "Epoch 22/50\n",
      "1/1 [==============================] - 0s 3ms/step - loss: 0.3832\n",
      "Epoch 23/50\n",
      "1/1 [==============================] - 0s 3ms/step - loss: 0.3815\n",
      "Epoch 24/50\n",
      "1/1 [==============================] - 0s 5ms/step - loss: 0.3799\n",
      "Epoch 25/50\n",
      "1/1 [==============================] - 0s 4ms/step - loss: 0.3783\n",
      "Epoch 26/50\n",
      "1/1 [==============================] - 0s 7ms/step - loss: 0.3767\n",
      "Epoch 27/50\n",
      "1/1 [==============================] - 0s 3ms/step - loss: 0.3751\n",
      "Epoch 28/50\n",
      "1/1 [==============================] - 0s 4ms/step - loss: 0.3736\n",
      "Epoch 29/50\n",
      "1/1 [==============================] - 0s 4ms/step - loss: 0.3720\n",
      "Epoch 30/50\n",
      "1/1 [==============================] - 0s 3ms/step - loss: 0.3705\n",
      "Epoch 31/50\n",
      "1/1 [==============================] - 0s 3ms/step - loss: 0.3689\n",
      "Epoch 32/50\n",
      "1/1 [==============================] - 0s 3ms/step - loss: 0.3674\n",
      "Epoch 33/50\n",
      "1/1 [==============================] - 0s 3ms/step - loss: 0.3659\n",
      "Epoch 34/50\n",
      "1/1 [==============================] - 0s 3ms/step - loss: 0.3645\n",
      "Epoch 35/50\n",
      "1/1 [==============================] - 0s 4ms/step - loss: 0.3630\n",
      "Epoch 36/50\n",
      "1/1 [==============================] - 0s 3ms/step - loss: 0.3615\n",
      "Epoch 37/50\n",
      "1/1 [==============================] - 0s 3ms/step - loss: 0.3601\n",
      "Epoch 38/50\n",
      "1/1 [==============================] - 0s 3ms/step - loss: 0.3587\n",
      "Epoch 39/50\n",
      "1/1 [==============================] - 0s 3ms/step - loss: 0.3573\n",
      "Epoch 40/50\n",
      "1/1 [==============================] - 0s 3ms/step - loss: 0.3559\n",
      "Epoch 41/50\n",
      "1/1 [==============================] - 0s 3ms/step - loss: 0.3545\n",
      "Epoch 42/50\n",
      "1/1 [==============================] - 0s 3ms/step - loss: 0.3531\n",
      "Epoch 43/50\n",
      "1/1 [==============================] - 0s 4ms/step - loss: 0.3518\n",
      "Epoch 44/50\n",
      "1/1 [==============================] - 0s 4ms/step - loss: 0.3504\n",
      "Epoch 45/50\n",
      "1/1 [==============================] - 0s 3ms/step - loss: 0.3491\n",
      "Epoch 46/50\n",
      "1/1 [==============================] - 0s 4ms/step - loss: 0.3478\n",
      "Epoch 47/50\n",
      "1/1 [==============================] - 0s 4ms/step - loss: 0.3465\n",
      "Epoch 48/50\n",
      "1/1 [==============================] - 0s 4ms/step - loss: 0.3452\n",
      "Epoch 49/50\n",
      "1/1 [==============================] - 0s 3ms/step - loss: 0.3439\n",
      "Epoch 50/50\n",
      "1/1 [==============================] - 0s 4ms/step - loss: 0.3427\n"
     ]
    },
    {
     "data": {
      "text/plain": [
       "<tensorflow.python.keras.callbacks.History at 0xb3575cda0>"
      ]
     },
     "execution_count": 31,
     "metadata": {},
     "output_type": "execute_result"
    }
   ],
   "source": [
    "#with tf.name_scope(\"tied\") as scope:\n",
    "#X = tf.placeholder(tf.float32, shape=(None, 100))\n",
    "#Y = tf.placeholder(tf.float32, shape=(None, 50))\n",
    "\n",
    "assert(not tf.executing_eagerly())\n",
    "inputs = tf.keras.Input(shape=(100,))  ##tensor=X)\n",
    "outputs = TDxy(inputs)\n",
    "Xreconstruct = TDyx(outputs)\n",
    "\n",
    "model = tf.keras.Model(inputs=inputs, outputs=outputs)\n",
    "#model = tf.keras.models.Sequential([TDxy])\n",
    "def loss_func(y0, y1):\n",
    "    return (tf.losses.mean_squared_error(y0, y1) *0.5+ \n",
    "            0.5 * tf.losses.mean_squared_error(inputs, Xreconstruct))\n",
    "    \n",
    "optimizer = tf.train.MomentumOptimizer(use_nesterov=True, learning_rate=0.001, momentum=0.8)\n",
    "##train_step = optimizer.minimize(loss)\n",
    "model.compile(optimizer, loss=loss_func) ##'mean_squared_error')\n",
    "\n",
    "model.fit(Rx, Ry, epochs=50,steps_per_epoch=1)"
   ]
  },
  {
   "cell_type": "code",
   "execution_count": 42,
   "metadata": {},
   "outputs": [
    {
     "name": "stdout",
     "output_type": "stream",
     "text": [
      "(100,)\n",
      "(1, 50)\n"
     ]
    },
    {
     "data": {
      "text/plain": [
       "9.00128"
      ]
     },
     "execution_count": 42,
     "metadata": {},
     "output_type": "execute_result"
    }
   ],
   "source": [
    "W = TDxy.get_weights()[0]\n",
    "#print(W.shape)\n",
    "print(Rx[0].shape)\n",
    "print (tf.matmul(Rx , W ).shape)\n",
    "eval_tensor(tf.nn.l2_loss(tf.matmul(Rx , W ) - Ry))\n",
    "#( W * tf.transpose(Rx)).shape\n",
    "#tf.nn.l2_loss(tf.matmul(Rx,W) - Ry).numpy() / 50\n",
    "#print(eval_tensor(Rx))\n"
   ]
  },
  {
   "cell_type": "code",
   "execution_count": 28,
   "metadata": {},
   "outputs": [
    {
     "data": {
      "text/plain": [
       "<tf.Tensor: id=568, shape=(1, 50), dtype=float32, numpy=\n",
       "array([[-9.7477329e-01, -8.2208133e-01, -9.6124542e-01,  3.7618971e-04,\n",
       "        -1.0394732e+00,  1.7865970e+00,  4.8999241e-01,  2.4646701e-01,\n",
       "         1.0472475e+00, -2.9509002e-01, -2.6252449e-01, -7.6602143e-01,\n",
       "        -7.8683645e-01, -7.7154410e-01,  3.2458159e-01, -4.6965221e-01,\n",
       "        -1.6701154e+00, -6.6593868e-01, -4.5266682e-01,  1.9592406e-01,\n",
       "        -2.9994237e-01,  1.4538711e-01,  4.0084203e-03, -5.3980872e-03,\n",
       "        -2.4856642e-01, -2.5537807e-02, -1.6502229e+00,  4.1029409e-01,\n",
       "         4.1868094e-01, -5.6240731e-01, -3.7862131e-01,  8.3970487e-02,\n",
       "         4.8118734e-01, -5.6614824e-02, -2.4418516e-02,  2.7894941e-01,\n",
       "        -3.7845142e-02,  3.0466071e-01,  4.8948762e-01, -8.0523741e-01,\n",
       "        -4.0582216e-01,  6.4324540e-01,  1.5459983e-01,  6.6791065e-02,\n",
       "        -1.2349693e+00,  9.8919946e-01,  2.9284969e-01,  7.3838133e-01,\n",
       "         6.8548733e-01,  1.6602484e+00]], dtype=float32)>"
      ]
     },
     "execution_count": 28,
     "metadata": {},
     "output_type": "execute_result"
    }
   ],
   "source": [
    "\n"
   ]
  },
  {
   "cell_type": "code",
   "execution_count": null,
   "metadata": {},
   "outputs": [],
   "source": []
  },
  {
   "cell_type": "code",
   "execution_count": null,
   "metadata": {},
   "outputs": [],
   "source": [
    "import tensorflow as tf\n",
    "mnist = tf.keras.datasets.mnist\n",
    "\n",
    "onehot = lambda y: tf.one_hot(y, depth=10)\n",
    "flat = lambda x : tf.reshape(x, (-1, x.shape[1] * x.shape[2]))\n",
    "(x_train, y_train_labels),(x_test, y_test_labels) = mnist.load_data()\n",
    "y_train = onehot(y_train_labels)\n",
    "y_test = onehot(y_test_labels)\n",
    "# flat may not be needed if input is a tf.dense layer\n",
    "x_train = flat(x_train)\n",
    "x_test = flat(x_test)\n",
    "print(x_train.shape, x_test.shape)"
   ]
  },
  {
   "cell_type": "code",
   "execution_count": null,
   "metadata": {},
   "outputs": [],
   "source": []
  }
 ],
 "metadata": {
  "kernelspec": {
   "display_name": "Python 3",
   "language": "python",
   "name": "python3"
  },
  "language_info": {
   "codemirror_mode": {
    "name": "ipython",
    "version": 3
   },
   "file_extension": ".py",
   "mimetype": "text/x-python",
   "name": "python",
   "nbconvert_exporter": "python",
   "pygments_lexer": "ipython3",
   "version": "3.6.8"
  }
 },
 "nbformat": 4,
 "nbformat_minor": 2
}
