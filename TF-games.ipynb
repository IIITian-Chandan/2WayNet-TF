{
 "cells": [
  {
   "cell_type": "code",
   "execution_count": null,
   "metadata": {},
   "outputs": [],
   "source": [
    "import importlib\n",
    "import layers.tied\n",
    "importlib.reload(layers.tied)\n",
    "import tensorflow as tf\n",
    "import datetime\n",
    "#tf.enable_eager_execution()\n",
    "print(tf.__version__)\n",
    "from tensorflow.keras.callbacks import TensorBoard"
   ]
  },
  {
   "cell_type": "code",
   "execution_count": null,
   "metadata": {},
   "outputs": [],
   "source": [
    "from layers.tied import TiedDenseLayer\n",
    "import tensorflow as tf\n",
    "from tensorflow.python.keras.models import load_model\n",
    "m = load_model(\"/Users/talfranji/Downloads/model2way.h5\")"
   ]
  },
  {
   "cell_type": "code",
   "execution_count": null,
   "metadata": {},
   "outputs": [],
   "source": [
    "#layers.tied._test_TiedDenseLayer()\n",
    "#layers.tied._test_TiedDropoutLayer()\n",
    "#layers.tied._test_LocallyDenseLayer()\n",
    "layers.tied._test_all()"
   ]
  },
  {
   "cell_type": "code",
   "execution_count": 27,
   "metadata": {},
   "outputs": [
    {
     "name": "stdout",
     "output_type": "stream",
     "text": [
      "Epoch 1/5\n",
      "1/1 [==============================] - 0s 225ms/step - loss: 0.0000e+00 - acc: 0.0000e+00\n",
      "Epoch 2/5\n",
      "1/1 [==============================] - 0s 4ms/step - loss: 0.0000e+00 - acc: 0.0000e+00\n",
      "Epoch 3/5\n",
      "1/1 [==============================] - 0s 4ms/step - loss: 0.0000e+00 - acc: 0.0000e+00\n",
      "Epoch 4/5\n",
      "1/1 [==============================] - 0s 5ms/step - loss: 0.0000e+00 - acc: 0.0000e+00\n",
      "Epoch 5/5\n",
      "1/1 [==============================] - 0s 7ms/step - loss: 0.0000e+00 - acc: 0.0000e+00\n"
     ]
    },
    {
     "data": {
      "text/plain": [
       "<tensorflow.python.keras.callbacks.History at 0xb35448eb8>"
      ]
     },
     "execution_count": 27,
     "metadata": {},
     "output_type": "execute_result"
    }
   ],
   "source": [
    "def eval_tensor(t):\n",
    "    return tf.Session().run(t)\n",
    "def tensor2const(t):\n",
    "    return tf.constant(eval_tensor(t))\n",
    "\n",
    "Rx = tensor2const(tf.random.uniform([1,100]))\n",
    "Ry = tensor2const(tf.random.uniform([1,50]))\n",
    "\n",
    "model = tf.keras.models.Sequential([\n",
    "#tf.keras.layers.Flatten(),\n",
    "tf.keras.layers.Dense(50, activation=tf.nn.softmax),\n",
    "tf.keras.layers.Reshape([50,1]),\n",
    "])\n",
    "log_dir='/Users/talfranji/tmp/log/fit'\n",
    "tb = TensorBoard(log_dir=log_dir)\n",
    "model.compile(optimizer='sgd',loss='sparse_categorical_crossentropy',metrics=['accuracy'])\n",
    "model.fit(Rx, Ry, epochs=5, steps_per_epoch=1, callbacks=[tb])"
   ]
  },
  {
   "cell_type": "code",
   "execution_count": null,
   "metadata": {},
   "outputs": [],
   "source": [
    "\n",
    "#eval_tensor(tf.concat([tf.constant([1,2,3]), tf.constant([4,5,6])], axis=0))\n",
    "#eval_tensor(tf.constant([4,5,6]))"
   ]
  },
  {
   "cell_type": "code",
   "execution_count": null,
   "metadata": {},
   "outputs": [],
   "source": [
    "Rx = layers.tied.tensor2const(tf.ones([1, 10, 10]))\n",
    "Ry = layers.tied.tensor2const(tf.ones([1, 10, 10]))\n",
    "\n",
    "rate = 0.5\n",
    "inputs = tf.keras.Input(shape=(10, 10))\n",
    "#TD1 = tf.layers.Dropout(rate=rate)\n",
    "TD1 = layers.tied.TiedDropoutLayer()\n",
    "TD1.build(inputs.shape)\n",
    "TD2 = layers.tied.TiedDropoutLayer(tied_mask_variable=TD1.get_mask_varible())\n",
    "outputs = TD2(TD1(inputs))\n",
    "\n",
    "model = tf.keras.Model(inputs=inputs, outputs=outputs)\n",
    "optimizer = tf.train.MomentumOptimizer(use_nesterov=True, learning_rate=0.001, momentum=0.8)\n",
    "model.compile(optimizer, loss='mean_squared_error')\n",
    "\n",
    "log_dir = \"/tmp/logs/fit/\" + datetime.datetime.now().strftime(\"%Y%m%d-%H%M%S\")\n",
    "tensorboard_callback = tf.keras.callbacks.TensorBoard(log_dir=log_dir)\n",
    "model.fit(Rx, Ry, epochs=100, steps_per_epoch=1, callbacks=[tensorboard_callback])\n"
   ]
  },
  {
   "cell_type": "code",
   "execution_count": 1,
   "metadata": {},
   "outputs": [
    {
     "data": {
      "text/plain": [
       "<module 'run_model' from '/Users/talfranji/Dropbox/C/lior_wolf/2WayNet-TF/run_model.py'>"
      ]
     },
     "execution_count": 1,
     "metadata": {},
     "output_type": "execute_result"
    }
   ],
   "source": [
    "# RESTART - start here after kernel restart with same machine   ##############################\n",
    "!rm -fR /Users/talfranji/tmp/log/fit\n",
    "import sys\n",
    "import importlib\n",
    "#path = \"/content/2WayNet-TF\"\n",
    "#if not path in sys.path:\n",
    "#  sys.path.append(path)\n",
    "import run_model\n",
    "importlib.invalidate_caches() # allow dirsync to change files\n",
    "importlib.reload(run_model)"
   ]
  },
  {
   "cell_type": "code",
   "execution_count": 2,
   "metadata": {},
   "outputs": [
    {
     "name": "stdout",
     "output_type": "stream",
     "text": [
      "data_parameters[name] = MNIST\n",
      "data_parameters[path] = /Users/talfranji/data/MNIST/\n",
      "data_parameters[normalize] = 1\n",
      "data_parameters[scale] = 0\n",
      "data_parameters[scale_samples] = 0\n",
      "data_parameters[whiten] = 0\n",
      "data_parameters[pca] = 0 0\n",
      "data_parameters[full] = 0\n",
      "data_parameters[subsample_test] = 0\n",
      "Layer X->Y build <class 'layers.tied.TiedDenseLayer'>(units=392,input_shape=(None, 392))\n",
      "Layer Y->X build <class 'layers.tied.TiedDenseLayer'>(kwargs={'units': 392, 'tied_layer': <layers.tied.TiedDenseLayer object at 0xb31f93eb8>})\n",
      "Noise X->Y build <class 'layers.tied.TiedDropoutLayer'>(input_shape=(None, 392))\n",
      "Layer X->Y build <class 'layers.tied.TiedDenseLayer'>(units=50,input_shape=(None, 392))\n",
      "Layer Y->X build <class 'layers.tied.TiedDenseLayer'>(kwargs={'units': 392, 'tied_layer': <layers.tied.TiedDenseLayer object at 0x12eade828>})\n",
      "Noise X->Y build <class 'layers.tied.TiedDropoutLayer'>(input_shape=(None, 50))\n",
      "Layer X->Y build <class 'layers.tied.TiedDenseLayer'>(units=392,input_shape=(None, 50))\n",
      "Layer Y->X build <class 'layers.tied.TiedDenseLayer'>(kwargs={'units': 50, 'tied_layer': <layers.tied.TiedDenseLayer object at 0x1079f5b00>})\n",
      "Noise X->Y build <class 'layers.tied.TiedDropoutLayer'>(input_shape=(None, 392))\n",
      "Layer X->Y build <class 'layers.tied.TiedDenseLayer'>(units=392,input_shape=(None, 392))\n",
      "Layer Y->X build <class 'layers.tied.TiedDenseLayer'>(kwargs={'units': 392, 'tied_layer': <layers.tied.TiedDenseLayer object at 0x12f69a358>})\n",
      "Epoch 1/80\n",
      "1000/1000 [==============================] - 14s 14ms/step - loss: 147.6590 - tied_dense_layer_6_loss: 8.1265 - tied_dense_layer_1_loss: 8.1265 - tied_dense_layer_6_dummy_metic_for_images: 101.1440 - tied_dense_layer_6_metric_learning_rate: 1.0000e-04 - tied_dense_layer_1_dummy_metic_for_images: 101.1440 - tied_dense_layer_1_metric_learning_rate: 1.0000e-04\n",
      "Epoch 2/80\n",
      "1000/1000 [==============================] - 8s 8ms/step - loss: 146.0092 - tied_dense_layer_6_loss: 7.3633 - tied_dense_layer_1_loss: 7.3633 - tied_dense_layer_6_dummy_metic_for_images: 155.6160 - tied_dense_layer_6_metric_learning_rate: 1.0000e-04 - tied_dense_layer_1_dummy_metic_for_images: 155.6160 - tied_dense_layer_1_metric_learning_rate: 1.0000e-04\n",
      "Epoch 3/80\n",
      "1000/1000 [==============================] - 10s 10ms/step - loss: 146.0909 - tied_dense_layer_6_loss: 7.4905 - tied_dense_layer_1_loss: 7.4905 - tied_dense_layer_6_dummy_metic_for_images: 154.9440 - tied_dense_layer_6_metric_learning_rate: 1.0000e-04 - tied_dense_layer_1_dummy_metic_for_images: 154.9440 - tied_dense_layer_1_metric_learning_rate: 1.0000e-04\n",
      "Epoch 4/80\n",
      "1000/1000 [==============================] - 11s 11ms/step - loss: 145.6001 - tied_dense_layer_6_loss: 7.3418 - tied_dense_layer_1_loss: 7.3418 - tied_dense_layer_6_dummy_metic_for_images: 119.2800 - tied_dense_layer_6_metric_learning_rate: 1.0000e-04 - tied_dense_layer_1_dummy_metic_for_images: 119.2800 - tied_dense_layer_1_metric_learning_rate: 1.0000e-04\n",
      "Epoch 5/80\n",
      "1000/1000 [==============================] - 8s 8ms/step - loss: 145.3300 - tied_dense_layer_6_loss: 7.3079 - tied_dense_layer_1_loss: 7.3079 - tied_dense_layer_6_dummy_metic_for_images: 86.7440 - tied_dense_layer_6_metric_learning_rate: 1.0000e-04 - tied_dense_layer_1_dummy_metic_for_images: 86.7440 - tied_dense_layer_1_metric_learning_rate: 1.0000e-04\n",
      "Epoch 6/80\n",
      "1000/1000 [==============================] - 8s 8ms/step - loss: 145.5691 - tied_dense_layer_6_loss: 7.5302 - tied_dense_layer_1_loss: 7.5302 - tied_dense_layer_6_dummy_metic_for_images: 118.2400 - tied_dense_layer_6_metric_learning_rate: 1.0000e-04 - tied_dense_layer_1_dummy_metic_for_images: 118.2400 - tied_dense_layer_1_metric_learning_rate: 1.0000e-04\n",
      "Epoch 7/80\n",
      "1000/1000 [==============================] - 8s 8ms/step - loss: 144.8115 - tied_dense_layer_6_loss: 7.2547 - tied_dense_layer_1_loss: 7.2547 - tied_dense_layer_6_dummy_metic_for_images: 203.2640 - tied_dense_layer_6_metric_learning_rate: 1.0000e-04 - tied_dense_layer_1_dummy_metic_for_images: 203.2640 - tied_dense_layer_1_metric_learning_rate: 1.0000e-04\n",
      "Epoch 8/80\n",
      "1000/1000 [==============================] - 22577s 23s/step - loss: 144.1054 - tied_dense_layer_6_loss: 7.0050 - tied_dense_layer_1_loss: 7.0050 - tied_dense_layer_6_dummy_metic_for_images: 93.9440 - tied_dense_layer_6_metric_learning_rate: 1.0000e-04 - tied_dense_layer_1_dummy_metic_for_images: 93.9440 - tied_dense_layer_1_metric_learning_rate: 1.0000e-04\n",
      "Epoch 9/80\n",
      "1000/1000 [==============================] - 18s 18ms/step - loss: 143.8116 - tied_dense_layer_6_loss: 6.9613 - tied_dense_layer_1_loss: 6.9613 - tied_dense_layer_6_dummy_metic_for_images: 104.3680 - tied_dense_layer_6_metric_learning_rate: 1.0000e-04 - tied_dense_layer_1_dummy_metic_for_images: 104.3680 - tied_dense_layer_1_metric_learning_rate: 1.0000e-04\n",
      "Epoch 10/80\n",
      "1000/1000 [==============================] - 10s 10ms/step - loss: 143.5340 - tied_dense_layer_6_loss: 6.9255 - tied_dense_layer_1_loss: 6.9255 - tied_dense_layer_6_dummy_metic_for_images: 90.0960 - tied_dense_layer_6_metric_learning_rate: 1.0000e-04 - tied_dense_layer_1_dummy_metic_for_images: 90.0960 - tied_dense_layer_1_metric_learning_rate: 1.0000e-04\n",
      "Epoch 11/80\n",
      "1000/1000 [==============================] - 12s 12ms/step - loss: 143.2032 - tied_dense_layer_6_loss: 6.8628 - tied_dense_layer_1_loss: 6.8628 - tied_dense_layer_6_dummy_metic_for_images: 148.9520 - tied_dense_layer_6_metric_learning_rate: 1.0000e-04 - tied_dense_layer_1_dummy_metic_for_images: 148.9520 - tied_dense_layer_1_metric_learning_rate: 1.0000e-04\n",
      "Epoch 12/80\n",
      "1000/1000 [==============================] - 12s 12ms/step - loss: 143.2053 - tied_dense_layer_6_loss: 6.9662 - tied_dense_layer_1_loss: 6.9662 - tied_dense_layer_6_dummy_metic_for_images: 132.9840 - tied_dense_layer_6_metric_learning_rate: 1.0000e-04 - tied_dense_layer_1_dummy_metic_for_images: 132.9840 - tied_dense_layer_1_metric_learning_rate: 1.0000e-04\n",
      "Epoch 13/80\n",
      "1000/1000 [==============================] - 9s 9ms/step - loss: 142.9108 - tied_dense_layer_6_loss: 6.9211 - tied_dense_layer_1_loss: 6.9211 - tied_dense_layer_6_dummy_metic_for_images: 149.9840 - tied_dense_layer_6_metric_learning_rate: 1.0000e-04 - tied_dense_layer_1_dummy_metic_for_images: 149.9840 - tied_dense_layer_1_metric_learning_rate: 1.0000e-04\n",
      "Epoch 14/80\n",
      "1000/1000 [==============================] - 8s 8ms/step - loss: 142.3837 - tied_dense_layer_6_loss: 6.7594 - tied_dense_layer_1_loss: 6.7594 - tied_dense_layer_6_dummy_metic_for_images: 99.6880 - tied_dense_layer_6_metric_learning_rate: 1.0000e-04 - tied_dense_layer_1_dummy_metic_for_images: 99.6880 - tied_dense_layer_1_metric_learning_rate: 1.0000e-04\n",
      "Epoch 15/80\n",
      "1000/1000 [==============================] - 9s 9ms/step - loss: 142.3193 - tied_dense_layer_6_loss: 6.8287 - tied_dense_layer_1_loss: 6.8287 - tied_dense_layer_6_dummy_metic_for_images: 144.8480 - tied_dense_layer_6_metric_learning_rate: 1.0000e-04 - tied_dense_layer_1_dummy_metic_for_images: 144.8480 - tied_dense_layer_1_metric_learning_rate: 1.0000e-04\n",
      "Epoch 16/80\n",
      "1000/1000 [==============================] - 9s 9ms/step - loss: 141.9903 - tied_dense_layer_6_loss: 6.7653 - tied_dense_layer_1_loss: 6.7653 - tied_dense_layer_6_dummy_metic_for_images: 137.6640 - tied_dense_layer_6_metric_learning_rate: 1.0000e-04 - tied_dense_layer_1_dummy_metic_for_images: 137.6640 - tied_dense_layer_1_metric_learning_rate: 1.0000e-04\n",
      "Epoch 17/80\n",
      "1000/1000 [==============================] - 8s 8ms/step - loss: 141.7304 - tied_dense_layer_6_loss: 6.7363 - tied_dense_layer_1_loss: 6.7363 - tied_dense_layer_6_dummy_metic_for_images: 120.6800 - tied_dense_layer_6_metric_learning_rate: 1.0000e-04 - tied_dense_layer_1_dummy_metic_for_images: 120.6800 - tied_dense_layer_1_metric_learning_rate: 1.0000e-04\n",
      "Epoch 18/80\n",
      "1000/1000 [==============================] - 9s 9ms/step - loss: 141.5053 - tied_dense_layer_6_loss: 6.7244 - tied_dense_layer_1_loss: 6.7244 - tied_dense_layer_6_dummy_metic_for_images: 125.7920 - tied_dense_layer_6_metric_learning_rate: 1.0000e-04 - tied_dense_layer_1_dummy_metic_for_images: 125.7920 - tied_dense_layer_1_metric_learning_rate: 1.0000e-04\n",
      "Epoch 19/80\n"
     ]
    },
    {
     "name": "stdout",
     "output_type": "stream",
     "text": [
      "1000/1000 [==============================] - 8s 8ms/step - loss: 141.2700 - tied_dense_layer_6_loss: 6.7070 - tied_dense_layer_1_loss: 6.7070 - tied_dense_layer_6_dummy_metic_for_images: 128.1280 - tied_dense_layer_6_metric_learning_rate: 1.0000e-04 - tied_dense_layer_1_dummy_metic_for_images: 128.1280 - tied_dense_layer_1_metric_learning_rate: 1.0000e-04\n",
      "Epoch 20/80\n",
      "1000/1000 [==============================] - 8s 8ms/step - loss: 140.5066 - tied_dense_layer_6_loss: 6.4253 - tied_dense_layer_1_loss: 6.4253 - tied_dense_layer_6_dummy_metic_for_images: 119.2080 - tied_dense_layer_6_metric_learning_rate: 1.0000e-04 - tied_dense_layer_1_dummy_metic_for_images: 119.2080 - tied_dense_layer_1_metric_learning_rate: 1.0000e-04\n",
      "Epoch 21/80\n",
      "1000/1000 [==============================] - 8s 8ms/step - loss: 140.6130 - tied_dense_layer_6_loss: 6.5782 - tied_dense_layer_1_loss: 6.5782 - tied_dense_layer_6_dummy_metic_for_images: 171.2240 - tied_dense_layer_6_metric_learning_rate: 1.0000e-04 - tied_dense_layer_1_dummy_metic_for_images: 171.2240 - tied_dense_layer_1_metric_learning_rate: 1.0000e-04\n",
      "Epoch 22/80\n",
      "1000/1000 [==============================] - 8s 8ms/step - loss: 140.3724 - tied_dense_layer_6_loss: 6.5574 - tied_dense_layer_1_loss: 6.5574 - tied_dense_layer_6_dummy_metic_for_images: 147.5680 - tied_dense_layer_6_metric_learning_rate: 1.0000e-04 - tied_dense_layer_1_dummy_metic_for_images: 147.5680 - tied_dense_layer_1_metric_learning_rate: 1.0000e-04\n",
      "Epoch 23/80\n",
      "1000/1000 [==============================] - 8s 8ms/step - loss: 139.9414 - tied_dense_layer_6_loss: 6.4410 - tied_dense_layer_1_loss: 6.4410 - tied_dense_layer_6_dummy_metic_for_images: 123.1440 - tied_dense_layer_6_metric_learning_rate: 1.0000e-04 - tied_dense_layer_1_dummy_metic_for_images: 123.1440 - tied_dense_layer_1_metric_learning_rate: 1.0000e-04\n",
      "Epoch 24/80\n",
      "1000/1000 [==============================] - 7s 7ms/step - loss: 139.8786 - tied_dense_layer_6_loss: 6.5085 - tied_dense_layer_1_loss: 6.5085 - tied_dense_layer_6_dummy_metic_for_images: 131.7680 - tied_dense_layer_6_metric_learning_rate: 1.0000e-04 - tied_dense_layer_1_dummy_metic_for_images: 131.7680 - tied_dense_layer_1_metric_learning_rate: 1.0000e-04\n",
      "Epoch 25/80\n",
      "1000/1000 [==============================] - 8s 8ms/step - loss: 139.6749 - tied_dense_layer_6_loss: 6.5052 - tied_dense_layer_1_loss: 6.5052 - tied_dense_layer_6_dummy_metic_for_images: 129.9760 - tied_dense_layer_6_metric_learning_rate: 1.0000e-04 - tied_dense_layer_1_dummy_metic_for_images: 129.9760 - tied_dense_layer_1_metric_learning_rate: 1.0000e-04\n",
      "Epoch 26/80\n",
      "1000/1000 [==============================] - 8s 8ms/step - loss: 139.2839 - tied_dense_layer_6_loss: 6.4079 - tied_dense_layer_1_loss: 6.4079 - tied_dense_layer_6_dummy_metic_for_images: 80.8640 - tied_dense_layer_6_metric_learning_rate: 1.0000e-04 - tied_dense_layer_1_dummy_metic_for_images: 80.8640 - tied_dense_layer_1_metric_learning_rate: 1.0000e-04\n",
      "Epoch 27/80\n",
      "1000/1000 [==============================] - 8s 8ms/step - loss: 139.0557 - tied_dense_layer_6_loss: 6.3918 - tied_dense_layer_1_loss: 6.3918 - tied_dense_layer_6_dummy_metic_for_images: 128.2320 - tied_dense_layer_6_metric_learning_rate: 1.0000e-04 - tied_dense_layer_1_dummy_metic_for_images: 128.2320 - tied_dense_layer_1_metric_learning_rate: 1.0000e-04\n",
      "Epoch 28/80\n",
      "1000/1000 [==============================] - 8s 8ms/step - loss: 138.8480 - tied_dense_layer_6_loss: 6.3857 - tied_dense_layer_1_loss: 6.3857 - tied_dense_layer_6_dummy_metic_for_images: 119.2880 - tied_dense_layer_6_metric_learning_rate: 1.0000e-04 - tied_dense_layer_1_dummy_metic_for_images: 119.2880 - tied_dense_layer_1_metric_learning_rate: 1.0000e-04\n",
      "Epoch 29/80\n",
      "1000/1000 [==============================] - 11s 11ms/step - loss: 138.8491 - tied_dense_layer_6_loss: 6.4836 - tied_dense_layer_1_loss: 6.4836 - tied_dense_layer_6_dummy_metic_for_images: 115.1520 - tied_dense_layer_6_metric_learning_rate: 1.0000e-04 - tied_dense_layer_1_dummy_metic_for_images: 115.1520 - tied_dense_layer_1_metric_learning_rate: 1.0000e-04\n",
      "Epoch 30/80\n",
      "1000/1000 [==============================] - 8s 8ms/step - loss: 138.3642 - tied_dense_layer_6_loss: 6.3383 - tied_dense_layer_1_loss: 6.3383 - tied_dense_layer_6_dummy_metic_for_images: 133.7600 - tied_dense_layer_6_metric_learning_rate: 1.0000e-04 - tied_dense_layer_1_dummy_metic_for_images: 133.7600 - tied_dense_layer_1_metric_learning_rate: 1.0000e-04\n",
      "Epoch 31/80\n",
      "1000/1000 [==============================] - 8s 8ms/step - loss: 137.8291 - tied_dense_layer_6_loss: 6.1676 - tied_dense_layer_1_loss: 6.1676 - tied_dense_layer_6_dummy_metic_for_images: 162.0400 - tied_dense_layer_6_metric_learning_rate: 1.0000e-04 - tied_dense_layer_1_dummy_metic_for_images: 162.0400 - tied_dense_layer_1_metric_learning_rate: 1.0000e-04\n",
      "Epoch 32/80\n",
      "1000/1000 [==============================] - 8s 8ms/step - loss: 137.7227 - tied_dense_layer_6_loss: 6.2110 - tied_dense_layer_1_loss: 6.2110 - tied_dense_layer_6_dummy_metic_for_images: 106.3440 - tied_dense_layer_6_metric_learning_rate: 1.0000e-04 - tied_dense_layer_1_dummy_metic_for_images: 106.3440 - tied_dense_layer_1_metric_learning_rate: 1.0000e-04\n",
      "Epoch 33/80\n",
      "1000/1000 [==============================] - 8s 8ms/step - loss: 138.0043 - tied_dense_layer_6_loss: 6.4480 - tied_dense_layer_1_loss: 6.4480 - tied_dense_layer_6_dummy_metic_for_images: 124.1440 - tied_dense_layer_6_metric_learning_rate: 1.0000e-04 - tied_dense_layer_1_dummy_metic_for_images: 124.1440 - tied_dense_layer_1_metric_learning_rate: 1.0000e-04\n",
      "Epoch 34/80\n",
      "1000/1000 [==============================] - 7s 7ms/step - loss: 137.3277 - tied_dense_layer_6_loss: 6.2058 - tied_dense_layer_1_loss: 6.2058 - tied_dense_layer_6_dummy_metic_for_images: 81.0480 - tied_dense_layer_6_metric_learning_rate: 1.0000e-04 - tied_dense_layer_1_dummy_metic_for_images: 81.0480 - tied_dense_layer_1_metric_learning_rate: 1.0000e-04\n",
      "Epoch 35/80\n",
      "1000/1000 [==============================] - 8s 8ms/step - loss: 137.2254 - tied_dense_layer_6_loss: 6.2504 - tied_dense_layer_1_loss: 6.2504 - tied_dense_layer_6_dummy_metic_for_images: 99.1840 - tied_dense_layer_6_metric_learning_rate: 1.0000e-04 - tied_dense_layer_1_dummy_metic_for_images: 99.1840 - tied_dense_layer_1_metric_learning_rate: 1.0000e-04\n",
      "Epoch 36/80\n",
      "1000/1000 [==============================] - 8s 8ms/step - loss: 137.1069 - tied_dense_layer_6_loss: 6.2866 - tied_dense_layer_1_loss: 6.2866 - tied_dense_layer_6_dummy_metic_for_images: 112.2560 - tied_dense_layer_6_metric_learning_rate: 1.0000e-04 - tied_dense_layer_1_dummy_metic_for_images: 112.2560 - tied_dense_layer_1_metric_learning_rate: 1.0000e-04\n",
      "Epoch 37/80\n",
      "1000/1000 [==============================] - 8s 8ms/step - loss: 136.7706 - tied_dense_layer_6_loss: 6.2136 - tied_dense_layer_1_loss: 6.2136 - tied_dense_layer_6_dummy_metic_for_images: 106.7840 - tied_dense_layer_6_metric_learning_rate: 1.0000e-04 - tied_dense_layer_1_dummy_metic_for_images: 106.7840 - tied_dense_layer_1_metric_learning_rate: 1.0000e-04\n",
      "Epoch 38/80\n",
      "1000/1000 [==============================] - 8s 8ms/step - loss: 136.4786 - tied_dense_layer_6_loss: 6.1625 - tied_dense_layer_1_loss: 6.1625 - tied_dense_layer_6_dummy_metic_for_images: 167.9600 - tied_dense_layer_6_metric_learning_rate: 1.0000e-04 - tied_dense_layer_1_dummy_metic_for_images: 167.9600 - tied_dense_layer_1_metric_learning_rate: 1.0000e-04\n",
      "Epoch 39/80\n",
      "1000/1000 [==============================] - 8s 8ms/step - loss: 136.3260 - tied_dense_layer_6_loss: 6.1809 - tied_dense_layer_1_loss: 6.1809 - tied_dense_layer_6_dummy_metic_for_images: 132.4960 - tied_dense_layer_6_metric_learning_rate: 1.0000e-04 - tied_dense_layer_1_dummy_metic_for_images: 132.4960 - tied_dense_layer_1_metric_learning_rate: 1.0000e-04\n",
      "Epoch 40/80\n",
      "1000/1000 [==============================] - 8s 8ms/step - loss: 136.0601 - tied_dense_layer_6_loss: 6.1424 - tied_dense_layer_1_loss: 6.1424 - tied_dense_layer_6_dummy_metic_for_images: 153.5280 - tied_dense_layer_6_metric_learning_rate: 1.0000e-04 - tied_dense_layer_1_dummy_metic_for_images: 153.5280 - tied_dense_layer_1_metric_learning_rate: 1.0000e-04\n",
      "Epoch 41/80\n"
     ]
    },
    {
     "name": "stdout",
     "output_type": "stream",
     "text": [
      "1000/1000 [==============================] - 8s 8ms/step - loss: 135.6722 - tied_dense_layer_6_loss: 6.0425 - tied_dense_layer_1_loss: 6.0425 - tied_dense_layer_6_dummy_metic_for_images: 136.6000 - tied_dense_layer_6_metric_learning_rate: 1.0000e-04 - tied_dense_layer_1_dummy_metic_for_images: 136.6000 - tied_dense_layer_1_metric_learning_rate: 1.0000e-04\n",
      "Epoch 42/80\n",
      "1000/1000 [==============================] - 8s 8ms/step - loss: 135.5413 - tied_dense_layer_6_loss: 6.0709 - tied_dense_layer_1_loss: 6.0709 - tied_dense_layer_6_dummy_metic_for_images: 111.2640 - tied_dense_layer_6_metric_learning_rate: 1.0000e-04 - tied_dense_layer_1_dummy_metic_for_images: 111.2640 - tied_dense_layer_1_metric_learning_rate: 1.0000e-04\n",
      "Epoch 43/80\n",
      "1000/1000 [==============================] - 8s 8ms/step - loss: 135.3966 - tied_dense_layer_6_loss: 6.0921 - tied_dense_layer_1_loss: 6.0921 - tied_dense_layer_6_dummy_metic_for_images: 92.8720 - tied_dense_layer_6_metric_learning_rate: 1.0000e-04 - tied_dense_layer_1_dummy_metic_for_images: 92.8720 - tied_dense_layer_1_metric_learning_rate: 1.0000e-04\n",
      "Epoch 44/80\n",
      "1000/1000 [==============================] - 8s 8ms/step - loss: 135.4297 - tied_dense_layer_6_loss: 6.2020 - tied_dense_layer_1_loss: 6.2020 - tied_dense_layer_6_dummy_metic_for_images: 89.0560 - tied_dense_layer_6_metric_learning_rate: 1.0000e-04 - tied_dense_layer_1_dummy_metic_for_images: 89.0560 - tied_dense_layer_1_metric_learning_rate: 1.0000e-04\n",
      "Epoch 45/80\n",
      "1000/1000 [==============================] - 8s 8ms/step - loss: 135.1060 - tied_dense_layer_6_loss: 6.1332 - tied_dense_layer_1_loss: 6.1332 - tied_dense_layer_6_dummy_metic_for_images: 138.5200 - tied_dense_layer_6_metric_learning_rate: 1.0000e-04 - tied_dense_layer_1_dummy_metic_for_images: 138.5200 - tied_dense_layer_1_metric_learning_rate: 1.0000e-04\n",
      "Epoch 46/80\n",
      "1000/1000 [==============================] - 8s 8ms/step - loss: 134.7877 - tied_dense_layer_6_loss: 6.0668 - tied_dense_layer_1_loss: 6.0668 - tied_dense_layer_6_dummy_metic_for_images: 127.1920 - tied_dense_layer_6_metric_learning_rate: 1.0000e-04 - tied_dense_layer_1_dummy_metic_for_images: 127.1920 - tied_dense_layer_1_metric_learning_rate: 1.0000e-04\n",
      "Epoch 47/80\n",
      "1000/1000 [==============================] - 8s 8ms/step - loss: 134.6229 - tied_dense_layer_6_loss: 6.0770 - tied_dense_layer_1_loss: 6.0770 - tied_dense_layer_6_dummy_metic_for_images: 185.1120 - tied_dense_layer_6_metric_learning_rate: 1.0000e-04 - tied_dense_layer_1_dummy_metic_for_images: 185.1120 - tied_dense_layer_1_metric_learning_rate: 1.0000e-04\n",
      "Epoch 48/80\n",
      "1000/1000 [==============================] - 7s 7ms/step - loss: 134.4153 - tied_dense_layer_6_loss: 6.0655 - tied_dense_layer_1_loss: 6.0655 - tied_dense_layer_6_dummy_metic_for_images: 114.0480 - tied_dense_layer_6_metric_learning_rate: 1.0000e-04 - tied_dense_layer_1_dummy_metic_for_images: 114.0480 - tied_dense_layer_1_metric_learning_rate: 1.0000e-04\n",
      "Epoch 49/80\n",
      "1000/1000 [==============================] - 8s 8ms/step - loss: 133.7333 - tied_dense_layer_6_loss: 5.8165 - tied_dense_layer_1_loss: 5.8165 - tied_dense_layer_6_dummy_metic_for_images: 158.6800 - tied_dense_layer_6_metric_learning_rate: 1.0000e-04 - tied_dense_layer_1_dummy_metic_for_images: 158.6800 - tied_dense_layer_1_metric_learning_rate: 1.0000e-04\n",
      "Epoch 50/80\n",
      "1000/1000 [==============================] - 8s 8ms/step - loss: 133.6645 - tied_dense_layer_6_loss: 5.8738 - tied_dense_layer_1_loss: 5.8738 - tied_dense_layer_6_dummy_metic_for_images: 98.4880 - tied_dense_layer_6_metric_learning_rate: 1.0000e-04 - tied_dense_layer_1_dummy_metic_for_images: 98.4880 - tied_dense_layer_1_metric_learning_rate: 1.0000e-04\n",
      "Epoch 51/80\n",
      "1000/1000 [==============================] - 9s 9ms/step - loss: 133.8419 - tied_dense_layer_6_loss: 6.0540 - tied_dense_layer_1_loss: 6.0540 - tied_dense_layer_6_dummy_metic_for_images: 129.8480 - tied_dense_layer_6_metric_learning_rate: 1.0000e-04 - tied_dense_layer_1_dummy_metic_for_images: 129.8480 - tied_dense_layer_1_metric_learning_rate: 1.0000e-04\n",
      "Epoch 52/80\n",
      "1000/1000 [==============================] - 8s 8ms/step - loss: 133.3821 - tied_dense_layer_6_loss: 5.9153 - tied_dense_layer_1_loss: 5.9153 - tied_dense_layer_6_dummy_metic_for_images: 145.5280 - tied_dense_layer_6_metric_learning_rate: 1.0000e-04 - tied_dense_layer_1_dummy_metic_for_images: 145.5280 - tied_dense_layer_1_metric_learning_rate: 1.0000e-04\n",
      "Epoch 53/80\n",
      "1000/1000 [==============================] - 9s 9ms/step - loss: 133.1431 - tied_dense_layer_6_loss: 5.8868 - tied_dense_layer_1_loss: 5.8868 - tied_dense_layer_6_dummy_metic_for_images: 157.1760 - tied_dense_layer_6_metric_learning_rate: 1.0000e-04 - tied_dense_layer_1_dummy_metic_for_images: 157.1760 - tied_dense_layer_1_metric_learning_rate: 1.0000e-04\n",
      "Epoch 54/80\n",
      "1000/1000 [==============================] - 8s 8ms/step - loss: 133.0914 - tied_dense_layer_6_loss: 5.9517 - tied_dense_layer_1_loss: 5.9517 - tied_dense_layer_6_dummy_metic_for_images: 132.0160 - tied_dense_layer_6_metric_learning_rate: 1.0000e-04 - tied_dense_layer_1_dummy_metic_for_images: 132.0160 - tied_dense_layer_1_metric_learning_rate: 1.0000e-04\n",
      "Epoch 55/80\n",
      "1000/1000 [==============================] - 14s 14ms/step - loss: 132.7747 - tied_dense_layer_6_loss: 5.8838 - tied_dense_layer_1_loss: 5.8838 - tied_dense_layer_6_dummy_metic_for_images: 124.8000 - tied_dense_layer_6_metric_learning_rate: 1.0000e-04 - tied_dense_layer_1_dummy_metic_for_images: 124.8000 - tied_dense_layer_1_metric_learning_rate: 1.0000e-04\n",
      "Epoch 56/80\n",
      "1000/1000 [==============================] - 15s 15ms/step - loss: 132.5816 - tied_dense_layer_6_loss: 5.8775 - tied_dense_layer_1_loss: 5.8775 - tied_dense_layer_6_dummy_metic_for_images: 156.0640 - tied_dense_layer_6_metric_learning_rate: 1.0000e-04 - tied_dense_layer_1_dummy_metic_for_images: 156.0640 - tied_dense_layer_1_metric_learning_rate: 1.0000e-04\n",
      "Epoch 57/80\n",
      "1000/1000 [==============================] - 18s 18ms/step - loss: 132.3734 - tied_dense_layer_6_loss: 5.8634 - tied_dense_layer_1_loss: 5.8634 - tied_dense_layer_6_dummy_metic_for_images: 127.4640 - tied_dense_layer_6_metric_learning_rate: 1.0000e-04 - tied_dense_layer_1_dummy_metic_for_images: 127.4640 - tied_dense_layer_1_metric_learning_rate: 1.0000e-04\n",
      "Epoch 58/80\n",
      "1000/1000 [==============================] - 10s 10ms/step - loss: 132.0850 - tied_dense_layer_6_loss: 5.8089 - tied_dense_layer_1_loss: 5.8089 - tied_dense_layer_6_dummy_metic_for_images: 138.8480 - tied_dense_layer_6_metric_learning_rate: 1.0000e-04 - tied_dense_layer_1_dummy_metic_for_images: 138.8480 - tied_dense_layer_1_metric_learning_rate: 1.0000e-04\n",
      "Epoch 59/80\n",
      "1000/1000 [==============================] - 9s 9ms/step - loss: 131.8863 - tied_dense_layer_6_loss: 5.7991 - tied_dense_layer_1_loss: 5.7991 - tied_dense_layer_6_dummy_metic_for_images: 176.4960 - tied_dense_layer_6_metric_learning_rate: 1.0000e-04 - tied_dense_layer_1_dummy_metic_for_images: 176.4960 - tied_dense_layer_1_metric_learning_rate: 1.0000e-04\n",
      "Epoch 60/80\n",
      "1000/1000 [==============================] - 8s 8ms/step - loss: 131.7409 - tied_dense_layer_6_loss: 5.8156 - tied_dense_layer_1_loss: 5.8156 - tied_dense_layer_6_dummy_metic_for_images: 150.6800 - tied_dense_layer_6_metric_learning_rate: 1.0000e-04 - tied_dense_layer_1_dummy_metic_for_images: 150.6800 - tied_dense_layer_1_metric_learning_rate: 1.0000e-04\n",
      "Epoch 61/80\n",
      "1000/1000 [==============================] - 8s 8ms/step - loss: 131.7405 - tied_dense_layer_6_loss: 5.9044 - tied_dense_layer_1_loss: 5.9044 - tied_dense_layer_6_dummy_metic_for_images: 126.3280 - tied_dense_layer_6_metric_learning_rate: 1.0000e-04 - tied_dense_layer_1_dummy_metic_for_images: 126.3280 - tied_dense_layer_1_metric_learning_rate: 1.0000e-04\n",
      "Epoch 62/80\n",
      "1000/1000 [==============================] - 8s 8ms/step - loss: 131.3684 - tied_dense_layer_6_loss: 5.8071 - tied_dense_layer_1_loss: 5.8071 - tied_dense_layer_6_dummy_metic_for_images: 120.3200 - tied_dense_layer_6_metric_learning_rate: 1.0000e-04 - tied_dense_layer_1_dummy_metic_for_images: 120.3200 - tied_dense_layer_1_metric_learning_rate: 1.0000e-04\n",
      "Epoch 63/80\n"
     ]
    },
    {
     "name": "stdout",
     "output_type": "stream",
     "text": [
      "1000/1000 [==============================] - 8s 8ms/step - loss: 131.0342 - tied_dense_layer_6_loss: 5.7285 - tied_dense_layer_1_loss: 5.7285 - tied_dense_layer_6_dummy_metic_for_images: 176.5280 - tied_dense_layer_6_metric_learning_rate: 1.0000e-04 - tied_dense_layer_1_dummy_metic_for_images: 176.5280 - tied_dense_layer_1_metric_learning_rate: 1.0000e-04\n",
      "Epoch 64/80\n",
      "1000/1000 [==============================] - 10s 10ms/step - loss: 130.6476 - tied_dense_layer_6_loss: 5.6235 - tied_dense_layer_1_loss: 5.6235 - tied_dense_layer_6_dummy_metic_for_images: 111.3120 - tied_dense_layer_6_metric_learning_rate: 1.0000e-04 - tied_dense_layer_1_dummy_metic_for_images: 111.3120 - tied_dense_layer_1_metric_learning_rate: 1.0000e-04\n",
      "Epoch 65/80\n",
      "1000/1000 [==============================] - 9s 9ms/step - loss: 130.7861 - tied_dense_layer_6_loss: 5.7808 - tied_dense_layer_1_loss: 5.7808 - tied_dense_layer_6_dummy_metic_for_images: 165.0400 - tied_dense_layer_6_metric_learning_rate: 1.0000e-04 - tied_dense_layer_1_dummy_metic_for_images: 165.0400 - tied_dense_layer_1_metric_learning_rate: 1.0000e-04\n",
      "Epoch 66/80\n",
      "1000/1000 [==============================] - 8s 8ms/step - loss: 130.5000 - tied_dense_layer_6_loss: 5.7255 - tied_dense_layer_1_loss: 5.7255 - tied_dense_layer_6_dummy_metic_for_images: 156.4720 - tied_dense_layer_6_metric_learning_rate: 1.0000e-04 - tied_dense_layer_1_dummy_metic_for_images: 156.4720 - tied_dense_layer_1_metric_learning_rate: 1.0000e-04\n",
      "Epoch 67/80\n",
      "1000/1000 [==============================] - 9s 9ms/step - loss: 130.3924 - tied_dense_layer_6_loss: 5.7592 - tied_dense_layer_1_loss: 5.7592 - tied_dense_layer_6_dummy_metic_for_images: 142.8960 - tied_dense_layer_6_metric_learning_rate: 1.0000e-04 - tied_dense_layer_1_dummy_metic_for_images: 142.8960 - tied_dense_layer_1_metric_learning_rate: 1.0000e-04\n",
      "Epoch 68/80\n",
      "1000/1000 [==============================] - 10s 10ms/step - loss: 130.2695 - tied_dense_layer_6_loss: 5.7851 - tied_dense_layer_1_loss: 5.7851 - tied_dense_layer_6_dummy_metic_for_images: 123.9600 - tied_dense_layer_6_metric_learning_rate: 1.0000e-04 - tied_dense_layer_1_dummy_metic_for_images: 123.9600 - tied_dense_layer_1_metric_learning_rate: 1.0000e-04\n",
      "Epoch 69/80\n",
      "1000/1000 [==============================] - 10s 10ms/step - loss: 129.8387 - tied_dense_layer_6_loss: 5.6568 - tied_dense_layer_1_loss: 5.6568 - tied_dense_layer_6_dummy_metic_for_images: 142.6240 - tied_dense_layer_6_metric_learning_rate: 1.0000e-04 - tied_dense_layer_1_dummy_metic_for_images: 142.6240 - tied_dense_layer_1_metric_learning_rate: 1.0000e-04\n",
      "Epoch 70/80\n",
      "1000/1000 [==============================] - 8s 8ms/step - loss: 129.8037 - tied_dense_layer_6_loss: 5.7261 - tied_dense_layer_1_loss: 5.7261 - tied_dense_layer_6_dummy_metic_for_images: 158.3840 - tied_dense_layer_6_metric_learning_rate: 1.0000e-04 - tied_dense_layer_1_dummy_metic_for_images: 158.3840 - tied_dense_layer_1_metric_learning_rate: 1.0000e-04\n",
      "Epoch 71/80\n",
      "1000/1000 [==============================] - 8s 8ms/step - loss: 129.6168 - tied_dense_layer_6_loss: 5.7193 - tied_dense_layer_1_loss: 5.7193 - tied_dense_layer_6_dummy_metic_for_images: 119.7200 - tied_dense_layer_6_metric_learning_rate: 1.0000e-04 - tied_dense_layer_1_dummy_metic_for_images: 119.7200 - tied_dense_layer_1_metric_learning_rate: 1.0000e-04\n",
      "Epoch 72/80\n",
      "1000/1000 [==============================] - 10s 10ms/step - loss: 129.3597 - tied_dense_layer_6_loss: 5.6771 - tied_dense_layer_1_loss: 5.6771 - tied_dense_layer_6_dummy_metic_for_images: 150.5760 - tied_dense_layer_6_metric_learning_rate: 1.0000e-04 - tied_dense_layer_1_dummy_metic_for_images: 150.5760 - tied_dense_layer_1_metric_learning_rate: 1.0000e-04\n",
      "Epoch 73/80\n",
      "1000/1000 [==============================] - 8s 8ms/step - loss: 129.2527 - tied_dense_layer_6_loss: 5.7098 - tied_dense_layer_1_loss: 5.7098 - tied_dense_layer_6_dummy_metic_for_images: 97.3120 - tied_dense_layer_6_metric_learning_rate: 1.0000e-04 - tied_dense_layer_1_dummy_metic_for_images: 97.3120 - tied_dense_layer_1_metric_learning_rate: 1.0000e-04\n",
      "Epoch 74/80\n",
      "1000/1000 [==============================] - 8s 8ms/step - loss: 128.9160 - tied_dense_layer_6_loss: 5.6273 - tied_dense_layer_1_loss: 5.6273 - tied_dense_layer_6_dummy_metic_for_images: 86.6560 - tied_dense_layer_6_metric_learning_rate: 1.0000e-04 - tied_dense_layer_1_dummy_metic_for_images: 86.6560 - tied_dense_layer_1_metric_learning_rate: 1.0000e-04\n",
      "Epoch 75/80\n",
      "1000/1000 [==============================] - 10s 10ms/step - loss: 128.6989 - tied_dense_layer_6_loss: 5.6044 - tied_dense_layer_1_loss: 5.6044 - tied_dense_layer_6_dummy_metic_for_images: 158.4720 - tied_dense_layer_6_metric_learning_rate: 1.0000e-04 - tied_dense_layer_1_dummy_metic_for_images: 158.4720 - tied_dense_layer_1_metric_learning_rate: 1.0000e-04\n",
      "Epoch 76/80\n",
      "1000/1000 [==============================] - 10s 10ms/step - loss: 128.4448 - tied_dense_layer_6_loss: 5.5629 - tied_dense_layer_1_loss: 5.5629 - tied_dense_layer_6_dummy_metic_for_images: 142.4080 - tied_dense_layer_6_metric_learning_rate: 1.0000e-04 - tied_dense_layer_1_dummy_metic_for_images: 142.4080 - tied_dense_layer_1_metric_learning_rate: 1.0000e-04\n",
      "Epoch 77/80\n",
      "1000/1000 [==============================] - 8s 8ms/step - loss: 128.4036 - tied_dense_layer_6_loss: 5.6274 - tied_dense_layer_1_loss: 5.6274 - tied_dense_layer_6_dummy_metic_for_images: 124.8240 - tied_dense_layer_6_metric_learning_rate: 1.0000e-04 - tied_dense_layer_1_dummy_metic_for_images: 124.8240 - tied_dense_layer_1_metric_learning_rate: 1.0000e-04\n",
      "Epoch 78/80\n",
      "1000/1000 [==============================] - 8s 8ms/step - loss: 127.9957 - tied_dense_layer_6_loss: 5.5085 - tied_dense_layer_1_loss: 5.5085 - tied_dense_layer_6_dummy_metic_for_images: 75.9920 - tied_dense_layer_6_metric_learning_rate: 1.0000e-04 - tied_dense_layer_1_dummy_metic_for_images: 75.9920 - tied_dense_layer_1_metric_learning_rate: 1.0000e-04\n",
      "Epoch 79/80\n",
      "1000/1000 [==============================] - 10s 10ms/step - loss: 127.7401 - tied_dense_layer_6_loss: 5.4655 - tied_dense_layer_1_loss: 5.4655 - tied_dense_layer_6_dummy_metic_for_images: 101.0800 - tied_dense_layer_6_metric_learning_rate: 1.0000e-04 - tied_dense_layer_1_dummy_metic_for_images: 101.0800 - tied_dense_layer_1_metric_learning_rate: 1.0000e-04\n",
      "Epoch 80/80\n",
      "1000/1000 [==============================] - 10s 10ms/step - loss: 127.6629 - tied_dense_layer_6_loss: 5.5114 - tied_dense_layer_1_loss: 5.5114 - tied_dense_layer_6_dummy_metic_for_images: 158.5840 - tied_dense_layer_6_metric_learning_rate: 1.0000e-04 - tied_dense_layer_1_dummy_metic_for_images: 158.5840 - tied_dense_layer_1_metric_learning_rate: 1.0000e-04\n"
     ]
    }
   ],
   "source": [
    "m = run_model.run_model(\"/Users/talfranji/Dropbox/C/lior_wolf/2WayNet-TF/MNIST.ini\")\n"
   ]
  },
  {
   "cell_type": "code",
   "execution_count": null,
   "metadata": {},
   "outputs": [],
   "source": []
  }
 ],
 "metadata": {
  "kernelspec": {
   "display_name": "Python 3",
   "language": "python",
   "name": "python3"
  },
  "language_info": {
   "codemirror_mode": {
    "name": "ipython",
    "version": 3
   },
   "file_extension": ".py",
   "mimetype": "text/x-python",
   "name": "python",
   "nbconvert_exporter": "python",
   "pygments_lexer": "ipython3",
   "version": "3.6.8"
  }
 },
 "nbformat": 4,
 "nbformat_minor": 2
}
