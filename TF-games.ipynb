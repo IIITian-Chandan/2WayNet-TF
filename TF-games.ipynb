{
 "cells": [
  {
   "cell_type": "code",
   "execution_count": 6,
   "metadata": {},
   "outputs": [
    {
     "name": "stdout",
     "output_type": "stream",
     "text": [
      "1.13.1\n"
     ]
    }
   ],
   "source": [
    "import importlib\n",
    "import layers.tied\n",
    "importlib.reload(layers.tied)\n",
    "import tensorflow as tf\n",
    "import datetime\n",
    "#tf.enable_eager_execution()\n",
    "print(tf.__version__)\n",
    "from tensorflow.keras.callbacks import TensorBoard"
   ]
  },
  {
   "cell_type": "code",
   "execution_count": null,
   "metadata": {},
   "outputs": [],
   "source": [
    "from layers.tied import TiedDenseLayer\n",
    "import tensorflow as tf\n",
    "from tensorflow.python.keras.models import load_model\n",
    "m = load_model(\"/Users/talfranji/Downloads/model2way.h5\")"
   ]
  },
  {
   "cell_type": "code",
   "execution_count": null,
   "metadata": {},
   "outputs": [],
   "source": [
    "#layers.tied._test_TiedDenseLayer()\n",
    "#layers.tied._test_TiedDropoutLayer()\n",
    "#layers.tied._test_LocallyDenseLayer()\n",
    "layers.tied._test_all()"
   ]
  },
  {
   "cell_type": "code",
   "execution_count": 107,
   "metadata": {},
   "outputs": [
    {
     "data": {
      "text/plain": [
       "array([[ 1.1120034, -0.2529173],\n",
       "       [-0.2529173,  0.9633157]], dtype=float32)"
      ]
     },
     "execution_count": 107,
     "metadata": {},
     "output_type": "execute_result"
    }
   ],
   "source": [
    "def eval_tensor(t):\n",
    "    return tf.Session().run(t)\n",
    "def tensor2const(t):\n",
    "    return tf.constant(eval_tensor(t))\n",
    "from tensorflow.keras import backend as K\n",
    "sz = 50\n",
    "X = tf.random.normal(shape=[sz, 2], mean=0., stddev=1.0)\n",
    "Xm = util.center(X)\n",
    "N = tf.cast(K.shape(X)[0], X.dtype)\n",
    "\n",
    "#print(eval_tensor(Xm))\n",
    "dimXm1 =  49.0\n",
    "SigmaXX = tf.divide(tf.matmul(tf.transpose(Xm), Xm), N) ##+ eye_reg_x\n",
    "\n",
    "eval_tensor(SigmaXX)\n",
    "#util._test_center()"
   ]
  },
  {
   "cell_type": "code",
   "execution_count": 125,
   "metadata": {},
   "outputs": [],
   "source": [
    "import util\n",
    "import importlib\n",
    "importlib.invalidate_caches() # allow dirsync to change files\n",
    "importlib.reload(util)\n",
    "util._test()\n",
    "#util._test_cross_correlation_analysis()\n"
   ]
  },
  {
   "cell_type": "code",
   "execution_count": 130,
   "metadata": {},
   "outputs": [
    {
     "data": {
      "text/plain": [
       "<module 'run_model' from '/Users/talfranji/Dropbox/C/lior_wolf/2WayNet-TF/run_model.py'>"
      ]
     },
     "execution_count": 130,
     "metadata": {},
     "output_type": "execute_result"
    }
   ],
   "source": [
    "# RESTART - start here after kernel restart with same machine   ##############################\n",
    "!rm -fR /Users/talfranji/tmp/log/fit\n",
    "import sys\n",
    "import importlib\n",
    "#path = \"/content/2WayNet-TF\"\n",
    "#if not path in sys.path:\n",
    "#  sys.path.append(path)\n",
    "import run_model\n",
    "importlib.invalidate_caches() # allow dirsync to change files\n",
    "importlib.reload(run_model)"
   ]
  },
  {
   "cell_type": "code",
   "execution_count": 131,
   "metadata": {},
   "outputs": [
    {
     "name": "stdout",
     "output_type": "stream",
     "text": [
      "data_parameters[name] = MNIST\n",
      "data_parameters[path] = /Users/talfranji/data/MNIST/\n",
      "data_parameters[normalize] = 1\n",
      "data_parameters[scale] = 0\n",
      "data_parameters[scale_samples] = 0\n",
      "data_parameters[whiten] = 0\n",
      "data_parameters[pca] = 0 0\n",
      "data_parameters[full] = 0\n",
      "data_parameters[subsample_test] = 0\n",
      "Layer X->Y build <class 'layers.tied.TiedDenseLayer'>(units=392,input_shape=(None, 392))\n",
      "Layer Y->X build <class 'layers.tied.TiedDenseLayer'>(kwargs={'units': 392, 'tied_layer': <layers.tied.TiedDenseLayer object at 0xb4a7ed160>})\n",
      "Noise X->Y build <class 'layers.tied.TiedDropoutLayer'>(input_shape=(None, 392))\n",
      "Layer X->Y build <class 'layers.tied.TiedDenseLayer'>(units=50,input_shape=(None, 392))\n",
      "Layer Y->X build <class 'layers.tied.TiedDenseLayer'>(kwargs={'units': 392, 'tied_layer': <layers.tied.TiedDenseLayer object at 0xb4a7eddd8>})\n",
      "Noise X->Y build <class 'layers.tied.TiedDropoutLayer'>(input_shape=(None, 50))\n",
      "Layer X->Y build <class 'layers.tied.TiedDenseLayer'>(units=392,input_shape=(None, 50))\n",
      "Layer Y->X build <class 'layers.tied.TiedDenseLayer'>(kwargs={'units': 50, 'tied_layer': <layers.tied.TiedDenseLayer object at 0xb4a8b5940>})\n",
      "Noise X->Y build <class 'layers.tied.TiedDropoutLayer'>(input_shape=(None, 392))\n",
      "Layer X->Y build <class 'layers.tied.TiedDenseLayer'>(units=392,input_shape=(None, 392))\n",
      "Layer Y->X build <class 'layers.tied.TiedDenseLayer'>(kwargs={'units': 392, 'tied_layer': <layers.tied.TiedDenseLayer object at 0xb4aa83470>})\n",
      "Epoch 1/20\n",
      "1000/1000 [==============================] - 19s 19ms/sample - loss: 193.9359 - tied_dense_layer_14_loss: 7.4736 - tied_dense_layer_9_loss: 7.4736 - tied_dense_layer_14_dummy_metic_for_images: 138.2500 - tied_dense_layer_14_metric_learning_rate: 1.3599e-04 - tied_dense_layer_14_metric_cca: 29.9839 - tied_dense_layer_9_dummy_metic_for_images: 138.2500 - tied_dense_layer_9_metric_learning_rate: 1.3599e-04 - tied_dense_layer_9_metric_cca: 29.9839\n",
      "Epoch 2/20\n",
      "1000/1000 [==============================] - 4s 4ms/sample - loss: 192.0911 - tied_dense_layer_14_loss: 7.0956 - tied_dense_layer_9_loss: 7.0956 - tied_dense_layer_14_dummy_metic_for_images: 151.7500 - tied_dense_layer_14_metric_learning_rate: 2.4583e-04 - tied_dense_layer_14_metric_cca: 29.9128 - tied_dense_layer_9_dummy_metic_for_images: 151.7500 - tied_dense_layer_9_metric_learning_rate: 2.3018e-04 - tied_dense_layer_9_metric_cca: 29.9128\n",
      "Epoch 3/20\n",
      "1000/1000 [==============================] - 4s 4ms/sample - loss: 189.5882 - tied_dense_layer_14_loss: 6.9473 - tied_dense_layer_9_loss: 6.9473 - tied_dense_layer_14_dummy_metic_for_images: 189.5000 - tied_dense_layer_14_metric_learning_rate: 4.4441e-04 - tied_dense_layer_14_metric_cca: 30.2525 - tied_dense_layer_9_dummy_metic_for_images: 189.5000 - tied_dense_layer_9_metric_learning_rate: 3.8962e-04 - tied_dense_layer_9_metric_cca: 30.2525\n",
      "Epoch 4/20\n",
      "1000/1000 [==============================] - 4s 4ms/sample - loss: 184.5728 - tied_dense_layer_14_loss: 6.3325 - tied_dense_layer_9_loss: 6.3325 - tied_dense_layer_14_dummy_metic_for_images: 118.0000 - tied_dense_layer_14_metric_learning_rate: 8.0338e-04 - tied_dense_layer_14_metric_cca: 29.6166 - tied_dense_layer_9_dummy_metic_for_images: 118.0000 - tied_dense_layer_9_metric_learning_rate: 6.5949e-04 - tied_dense_layer_9_metric_cca: 29.6166\n",
      "Epoch 5/20\n",
      "1000/1000 [==============================] - 4s 4ms/sample - loss: 177.0437 - tied_dense_layer_14_loss: 5.6633 - tied_dense_layer_9_loss: 5.6633 - tied_dense_layer_14_dummy_metic_for_images: 130.2500 - tied_dense_layer_14_metric_learning_rate: 0.0015 - tied_dense_layer_14_metric_cca: 29.8137 - tied_dense_layer_9_dummy_metic_for_images: 130.2500 - tied_dense_layer_9_metric_learning_rate: 0.0011 - tied_dense_layer_9_metric_cca: 29.8137\n",
      "Epoch 6/20\n",
      "1000/1000 [==============================] - 4s 4ms/sample - loss: 166.0639 - tied_dense_layer_14_loss: 5.0656 - tied_dense_layer_9_loss: 5.0656 - tied_dense_layer_14_dummy_metic_for_images: 107.3750 - tied_dense_layer_14_metric_learning_rate: 0.0026 - tied_dense_layer_14_metric_cca: 30.0758 - tied_dense_layer_9_dummy_metic_for_images: 107.3750 - tied_dense_layer_9_metric_learning_rate: 0.0019 - tied_dense_layer_9_metric_cca: 30.0758\n",
      "Epoch 7/20\n",
      "1000/1000 [==============================] - 4s 4ms/sample - loss: 149.5024 - tied_dense_layer_14_loss: 4.1532 - tied_dense_layer_9_loss: 4.1532 - tied_dense_layer_14_dummy_metic_for_images: 148.5000 - tied_dense_layer_14_metric_learning_rate: 0.0047 - tied_dense_layer_14_metric_cca: 29.6810 - tied_dense_layer_9_dummy_metic_for_images: 148.5000 - tied_dense_layer_9_metric_learning_rate: 0.0032 - tied_dense_layer_9_metric_cca: 29.6810\n",
      "Epoch 8/20\n",
      "1000/1000 [==============================] - 4s 4ms/sample - loss: 126.8533 - tied_dense_layer_14_loss: 3.0585 - tied_dense_layer_9_loss: 3.0585 - tied_dense_layer_14_dummy_metic_for_images: 123.0000 - tied_dense_layer_14_metric_learning_rate: 0.0084 - tied_dense_layer_14_metric_cca: 29.8521 - tied_dense_layer_9_dummy_metic_for_images: 123.0000 - tied_dense_layer_9_metric_learning_rate: 0.0054 - tied_dense_layer_9_metric_cca: 29.8521\n",
      "Epoch 9/20\n",
      "1000/1000 [==============================] - 4s 4ms/sample - loss: 99.7224 - tied_dense_layer_14_loss: 1.9186 - tied_dense_layer_9_loss: 1.9186 - tied_dense_layer_14_dummy_metic_for_images: 157.7500 - tied_dense_layer_14_metric_learning_rate: 0.0066 - tied_dense_layer_14_metric_cca: 29.8009 - tied_dense_layer_9_dummy_metic_for_images: 157.7500 - tied_dense_layer_9_metric_learning_rate: 0.0087 - tied_dense_layer_9_metric_cca: 29.8009\n",
      "Epoch 10/20\n",
      "1000/1000 [==============================] - 4s 4ms/sample - loss: 78.5155 - tied_dense_layer_14_loss: 1.0576 - tied_dense_layer_9_loss: 1.0576 - tied_dense_layer_14_dummy_metic_for_images: 74.1250 - tied_dense_layer_14_metric_learning_rate: 0.0037 - tied_dense_layer_14_metric_cca: 30.3363 - tied_dense_layer_9_dummy_metic_for_images: 74.1250 - tied_dense_layer_9_metric_learning_rate: 0.0066 - tied_dense_layer_9_metric_cca: 30.3363\n",
      "Epoch 11/20\n",
      "1000/1000 [==============================] - 4s 4ms/sample - loss: 69.8006 - tied_dense_layer_14_loss: 0.7193 - tied_dense_layer_9_loss: 0.7193 - tied_dense_layer_14_dummy_metic_for_images: 128.7500 - tied_dense_layer_14_metric_learning_rate: 0.0021 - tied_dense_layer_14_metric_cca: 30.2857 - tied_dense_layer_9_dummy_metic_for_images: 128.7500 - tied_dense_layer_9_metric_learning_rate: 0.0039 - tied_dense_layer_9_metric_cca: 30.2857\n",
      "Epoch 12/20\n",
      "1000/1000 [==============================] - 4s 4ms/sample - loss: 65.9637 - tied_dense_layer_14_loss: 0.5754 - tied_dense_layer_9_loss: 0.5754 - tied_dense_layer_14_dummy_metic_for_images: 141.1250 - tied_dense_layer_14_metric_learning_rate: 0.0012 - tied_dense_layer_14_metric_cca: 30.1966 - tied_dense_layer_9_dummy_metic_for_images: 141.1250 - tied_dense_layer_9_metric_learning_rate: 0.0023 - tied_dense_layer_9_metric_cca: 30.1966\n",
      "Epoch 13/20\n",
      "1000/1000 [==============================] - 5s 5ms/sample - loss: 64.0590 - tied_dense_layer_14_loss: 0.5137 - tied_dense_layer_9_loss: 0.5137 - tied_dense_layer_14_dummy_metic_for_images: 136.1250 - tied_dense_layer_14_metric_learning_rate: 6.4210e-04 - tied_dense_layer_14_metric_cca: 30.0736 - tied_dense_layer_9_dummy_metic_for_images: 136.1250 - tied_dense_layer_9_metric_learning_rate: 0.0014 - tied_dense_layer_9_metric_cca: 30.0736\n",
      "Epoch 14/20\n",
      "1000/1000 [==============================] - 4s 4ms/sample - loss: 63.0230 - tied_dense_layer_14_loss: 0.4768 - tied_dense_layer_9_loss: 0.4768 - tied_dense_layer_14_dummy_metic_for_images: 143.3750 - tied_dense_layer_14_metric_learning_rate: 3.5816e-04 - tied_dense_layer_14_metric_cca: 30.3925 - tied_dense_layer_9_dummy_metic_for_images: 143.3750 - tied_dense_layer_9_metric_learning_rate: 8.3230e-04 - tied_dense_layer_9_metric_cca: 30.3925\n",
      "Epoch 15/20\n"
     ]
    },
    {
     "name": "stdout",
     "output_type": "stream",
     "text": [
      "1000/1000 [==============================] - 4s 4ms/sample - loss: 62.4503 - tied_dense_layer_14_loss: 0.4610 - tied_dense_layer_9_loss: 0.4610 - tied_dense_layer_14_dummy_metic_for_images: 142.5000 - tied_dense_layer_14_metric_learning_rate: 1.9978e-04 - tied_dense_layer_14_metric_cca: 30.5338 - tied_dense_layer_9_dummy_metic_for_images: 142.5000 - tied_dense_layer_9_metric_learning_rate: 4.9537e-04 - tied_dense_layer_9_metric_cca: 30.5338\n",
      "Epoch 16/20\n",
      "1000/1000 [==============================] - 4s 4ms/sample - loss: 62.1099 - tied_dense_layer_14_loss: 0.4466 - tied_dense_layer_9_loss: 0.4466 - tied_dense_layer_14_dummy_metic_for_images: 137.8750 - tied_dense_layer_14_metric_learning_rate: 1.1144e-04 - tied_dense_layer_14_metric_cca: 30.2916 - tied_dense_layer_9_dummy_metic_for_images: 137.8750 - tied_dense_layer_9_metric_learning_rate: 2.9483e-04 - tied_dense_layer_9_metric_cca: 30.2916\n",
      "Epoch 17/20\n",
      "1000/1000 [==============================] - 5s 5ms/sample - loss: 61.9184 - tied_dense_layer_14_loss: 0.4418 - tied_dense_layer_9_loss: 0.4418 - tied_dense_layer_14_dummy_metic_for_images: 116.1250 - tied_dense_layer_14_metric_learning_rate: 6.2161e-05 - tied_dense_layer_14_metric_cca: 30.3609 - tied_dense_layer_9_dummy_metic_for_images: 116.1250 - tied_dense_layer_9_metric_learning_rate: 1.7548e-04 - tied_dense_layer_9_metric_cca: 30.3609\n",
      "Epoch 18/20\n",
      "1000/1000 [==============================] - 4s 4ms/sample - loss: 61.8078 - tied_dense_layer_14_loss: 0.4400 - tied_dense_layer_9_loss: 0.4400 - tied_dense_layer_14_dummy_metic_for_images: 165.7500 - tied_dense_layer_14_metric_learning_rate: 3.4673e-05 - tied_dense_layer_14_metric_cca: 30.4770 - tied_dense_layer_9_dummy_metic_for_images: 165.7500 - tied_dense_layer_9_metric_learning_rate: 1.0444e-04 - tied_dense_layer_9_metric_cca: 30.4770\n",
      "Epoch 19/20\n",
      "1000/1000 [==============================] - 4s 4ms/sample - loss: 61.7415 - tied_dense_layer_14_loss: 0.4385 - tied_dense_layer_9_loss: 0.4385 - tied_dense_layer_14_dummy_metic_for_images: 104.7500 - tied_dense_layer_14_metric_learning_rate: 1.9341e-05 - tied_dense_layer_14_metric_cca: 30.2815 - tied_dense_layer_9_dummy_metic_for_images: 104.7500 - tied_dense_layer_9_metric_learning_rate: 6.2161e-05 - tied_dense_layer_9_metric_cca: 30.2815\n",
      "Epoch 20/20\n",
      "1000/1000 [==============================] - 5s 5ms/sample - loss: 61.6888 - tied_dense_layer_14_loss: 0.4309 - tied_dense_layer_9_loss: 0.4309 - tied_dense_layer_14_dummy_metic_for_images: 143.5000 - tied_dense_layer_14_metric_learning_rate: 1.0788e-05 - tied_dense_layer_14_metric_cca: 30.0833 - tied_dense_layer_9_dummy_metic_for_images: 143.5000 - tied_dense_layer_9_metric_learning_rate: 3.6997e-05 - tied_dense_layer_9_metric_cca: 30.0833\n",
      "10000/10000 [==============================] - 24s 2ms/sample - loss: 61.2249 - tied_dense_layer_14_loss: 0.2062 - tied_dense_layer_9_loss: 0.2062 - tied_dense_layer_14_dummy_metic_for_images: 129.7700 - tied_dense_layer_14_metric_learning_rate: 3.7994e-07 - tied_dense_layer_14_metric_cca: 31.9518 - tied_dense_layer_9_dummy_metic_for_images: 129.7700 - tied_dense_layer_9_metric_learning_rate: 1.3903e-06 - tied_dense_layer_9_metric_cca: 31.9518\n",
      "[('loss', 61.22485736694336), ('tied_dense_layer_14_loss', 0.20616482), ('tied_dense_layer_9_loss', 0.20616482), ('tied_dense_layer_14_dummy_metic_for_images', 129.76997), ('tied_dense_layer_14_metric_learning_rate', 3.7994093e-07), ('tied_dense_layer_14_metric_cca', 31.951752), ('tied_dense_layer_9_dummy_metic_for_images', 129.76997), ('tied_dense_layer_9_metric_learning_rate', 1.3902601e-06), ('tied_dense_layer_9_metric_cca', 31.951752)]\n"
     ]
    }
   ],
   "source": [
    "#data_set = run_model.load_data_set(\"/Users/talfranji/Dropbox/C/lior_wolf/2WayNet-TF/MNIST.ini\")\n",
    "#run_model.check_data(data_set, None)\n",
    "run_model.train_and_test(\"/Users/talfranji/Dropbox/C/lior_wolf/2WayNet-TF/MNIST.ini\")"
   ]
  },
  {
   "cell_type": "code",
   "execution_count": null,
   "metadata": {},
   "outputs": [],
   "source": [
    "from tensorflow.keras import backend as K\n",
    "def eval_tensor(t):\n",
    "    return tf.Session().run(t)\n",
    "import tensorflow as tf\n",
    "x = tf.constant([ 1.0000174e+00,  9.9999738e-01, -5.0974847e-08])\n",
    "#s,u,v = tf.linalg.svd(x)\n",
    "#print(eval_tensor(s))\n",
    "#print(eval_tensor(u))\n",
    "print(eval_tensor(tf.math.sqrt(x)))\n",
    "print(eval_tensor(K.sum(K.sqrt(x))))\n"
   ]
  },
  {
   "cell_type": "code",
   "execution_count": null,
   "metadata": {},
   "outputs": [],
   "source": []
  }
 ],
 "metadata": {
  "kernelspec": {
   "display_name": "Python 3",
   "language": "python",
   "name": "python3"
  },
  "language_info": {
   "codemirror_mode": {
    "name": "ipython",
    "version": 3
   },
   "file_extension": ".py",
   "mimetype": "text/x-python",
   "name": "python",
   "nbconvert_exporter": "python",
   "pygments_lexer": "ipython3",
   "version": "3.6.8"
  }
 },
 "nbformat": 4,
 "nbformat_minor": 2
}
