{
 "cells": [
  {
   "cell_type": "code",
   "execution_count": null,
   "metadata": {},
   "outputs": [],
   "source": [
    "import importlib\n",
    "import layers.tied\n",
    "importlib.reload(layers.tied)\n",
    "import tensorflow as tf\n",
    "import datetime\n",
    "#tf.enable_eager_execution()\n",
    "print(tf.__version__)\n",
    "from tensorflow.keras.callbacks import TensorBoard"
   ]
  },
  {
   "cell_type": "code",
   "execution_count": null,
   "metadata": {},
   "outputs": [],
   "source": [
    "from layers.tied import TiedDenseLayer\n",
    "import tensorflow as tf\n",
    "from tensorflow.python.keras.models import load_model\n",
    "m = load_model(\"/Users/talfranji/Downloads/model2way.h5\")"
   ]
  },
  {
   "cell_type": "code",
   "execution_count": null,
   "metadata": {},
   "outputs": [],
   "source": [
    "#layers.tied._test_TiedDenseLayer()\n",
    "#layers.tied._test_TiedDropoutLayer()\n",
    "#layers.tied._test_LocallyDenseLayer()\n",
    "layers.tied._test_all()"
   ]
  },
  {
   "cell_type": "code",
   "execution_count": null,
   "metadata": {},
   "outputs": [],
   "source": [
    "def eval_tensor(t):\n",
    "    return tf.Session().run(t)\n",
    "def tensor2const(t):\n",
    "    return tf.constant(eval_tensor(t))\n",
    "\n",
    "Rx = tensor2const(tf.random.uniform([10,3]))\n",
    "#Ry = tensor2const(tf.random.uniform([1,50]))\n",
    "\n",
    "def move_to_center(m):\n",
    "    \"caclulate mean of NxM matrix - and move all m-sized vector to the middle\"\n",
    "    return \n",
    "\n",
    "print(eval_tensor(Rx))\n"
   ]
  },
  {
   "cell_type": "code",
   "execution_count": 6,
   "metadata": {},
   "outputs": [
    {
     "name": "stdout",
     "output_type": "stream",
     "text": [
      "Tensor(\"Cast_4:0\", shape=(), dtype=float32)\n",
      "[0.13112433]\n"
     ]
    }
   ],
   "source": [
    "import util\n",
    "import importlib\n",
    "importlib.invalidate_caches() # allow dirsync to change files\n",
    "importlib.reload(util)\n",
    "#util._test_center()\n",
    "util._test_cross_correlation_analysis()\n"
   ]
  },
  {
   "cell_type": "code",
   "execution_count": 10,
   "metadata": {},
   "outputs": [
    {
     "data": {
      "text/plain": [
       "<module 'run_model' from '/Users/talfranji/Dropbox/C/lior_wolf/2WayNet-TF/run_model.py'>"
      ]
     },
     "execution_count": 10,
     "metadata": {},
     "output_type": "execute_result"
    }
   ],
   "source": [
    "# RESTART - start here after kernel restart with same machine   ##############################\n",
    "!rm -fR /Users/talfranji/tmp/log/fit\n",
    "import sys\n",
    "import importlib\n",
    "#path = \"/content/2WayNet-TF\"\n",
    "#if not path in sys.path:\n",
    "#  sys.path.append(path)\n",
    "import run_model\n",
    "importlib.invalidate_caches() # allow dirsync to change files\n",
    "importlib.reload(run_model)"
   ]
  },
  {
   "cell_type": "code",
   "execution_count": 11,
   "metadata": {},
   "outputs": [
    {
     "name": "stdout",
     "output_type": "stream",
     "text": [
      "data_parameters[name] = MNIST\n",
      "data_parameters[path] = /Users/talfranji/data/MNIST/\n",
      "data_parameters[normalize] = 1\n",
      "data_parameters[scale] = 0\n",
      "data_parameters[scale_samples] = 0\n",
      "data_parameters[whiten] = 0\n",
      "data_parameters[pca] = 0 0\n",
      "data_parameters[full] = 0\n",
      "data_parameters[subsample_test] = 0\n",
      "Layer X->Y build <class 'layers.tied.TiedDenseLayer'>(units=392,input_shape=(None, 392))\n",
      "Layer Y->X build <class 'layers.tied.TiedDenseLayer'>(kwargs={'units': 392, 'tied_layer': <layers.tied.TiedDenseLayer object at 0xb3ad195c0>})\n",
      "Noise X->Y build <class 'layers.tied.TiedDropoutLayer'>(input_shape=(None, 392))\n",
      "Layer X->Y build <class 'layers.tied.TiedDenseLayer'>(units=50,input_shape=(None, 392))\n",
      "Layer Y->X build <class 'layers.tied.TiedDenseLayer'>(kwargs={'units': 392, 'tied_layer': <layers.tied.TiedDenseLayer object at 0xb3ad39278>})\n",
      "Noise X->Y build <class 'layers.tied.TiedDropoutLayer'>(input_shape=(None, 50))\n",
      "Layer X->Y build <class 'layers.tied.TiedDenseLayer'>(units=392,input_shape=(None, 50))\n",
      "Layer Y->X build <class 'layers.tied.TiedDenseLayer'>(kwargs={'units': 50, 'tied_layer': <layers.tied.TiedDenseLayer object at 0xb3add6d68>})\n",
      "Noise X->Y build <class 'layers.tied.TiedDropoutLayer'>(input_shape=(None, 392))\n",
      "Layer X->Y build <class 'layers.tied.TiedDenseLayer'>(units=392,input_shape=(None, 392))\n",
      "Layer Y->X build <class 'layers.tied.TiedDenseLayer'>(kwargs={'units': 392, 'tied_layer': <layers.tied.TiedDenseLayer object at 0xb3ae62da0>})\n",
      "Tensor(\"metrics_1/tied_dense_layer_14_metric_cca/cond/Cast:0\", shape=(), dtype=float32)\n",
      "Tensor(\"metrics_1/tied_dense_layer_14_metric_cca/cond_1/Cast:0\", shape=(), dtype=float32)\n",
      "Tensor(\"metrics_1/tied_dense_layer_9_metric_cca/cond/Cast:0\", shape=(), dtype=float32)\n",
      "Tensor(\"metrics_1/tied_dense_layer_9_metric_cca/cond_1/Cast:0\", shape=(), dtype=float32)\n",
      "Epoch 1/20\n",
      "1000/1000 [==============================] - 13s 13ms/sample - loss: 195.9443 - tied_dense_layer_14_loss: 8.1924 - tied_dense_layer_9_loss: 8.1924 - tied_dense_layer_14_dummy_metic_for_images: 109.7500 - tied_dense_layer_14_metric_learning_rate: 1.3599e-04 - tied_dense_layer_14_metric_cca: 7.0000 - tied_dense_layer_9_dummy_metic_for_images: 109.7500 - tied_dense_layer_9_metric_learning_rate: 1.3599e-04 - tied_dense_layer_9_metric_cca: 7.0000\n",
      "Epoch 2/20\n",
      "1000/1000 [==============================] - 4s 4ms/sample - loss: 192.7200 - tied_dense_layer_14_loss: 7.1301 - tied_dense_layer_9_loss: 7.1301 - tied_dense_layer_14_dummy_metic_for_images: 109.0000 - tied_dense_layer_14_metric_learning_rate: 2.4583e-04 - tied_dense_layer_14_metric_cca: 7.0000 - tied_dense_layer_9_dummy_metic_for_images: 109.0000 - tied_dense_layer_9_metric_learning_rate: 2.3018e-04 - tied_dense_layer_9_metric_cca: 7.0000\n",
      "Epoch 3/20\n",
      "1000/1000 [==============================] - 3s 3ms/sample - loss: 189.7788 - tied_dense_layer_14_loss: 6.7675 - tied_dense_layer_9_loss: 6.7675 - tied_dense_layer_14_dummy_metic_for_images: 133.6250 - tied_dense_layer_14_metric_learning_rate: 4.4441e-04 - tied_dense_layer_14_metric_cca: 7.0000 - tied_dense_layer_9_dummy_metic_for_images: 133.6250 - tied_dense_layer_9_metric_learning_rate: 3.8962e-04 - tied_dense_layer_9_metric_cca: 7.0000\n",
      "Epoch 4/20\n",
      "1000/1000 [==============================] - 3s 3ms/sample - loss: 184.8699 - tied_dense_layer_14_loss: 6.2118 - tied_dense_layer_9_loss: 6.2118 - tied_dense_layer_14_dummy_metic_for_images: 122.6250 - tied_dense_layer_14_metric_learning_rate: 8.0338e-04 - tied_dense_layer_14_metric_cca: 7.0000 - tied_dense_layer_9_dummy_metic_for_images: 122.6250 - tied_dense_layer_9_metric_learning_rate: 6.5949e-04 - tied_dense_layer_9_metric_cca: 7.0000\n",
      "Epoch 5/20\n",
      "1000/1000 [==============================] - 3s 3ms/sample - loss: 177.9906 - tied_dense_layer_14_loss: 5.8806 - tied_dense_layer_9_loss: 5.8806 - tied_dense_layer_14_dummy_metic_for_images: 136.0000 - tied_dense_layer_14_metric_learning_rate: 0.0015 - tied_dense_layer_14_metric_cca: 7.0000 - tied_dense_layer_9_dummy_metic_for_images: 136.0000 - tied_dense_layer_9_metric_learning_rate: 0.0011 - tied_dense_layer_9_metric_cca: 7.0000\n",
      "Epoch 6/20\n",
      "1000/1000 [==============================] - 5s 5ms/sample - loss: 166.4795 - tied_dense_layer_14_loss: 5.0429 - tied_dense_layer_9_loss: 5.0429 - tied_dense_layer_14_dummy_metic_for_images: 130.0000 - tied_dense_layer_14_metric_learning_rate: 0.0026 - tied_dense_layer_14_metric_cca: 7.0000 - tied_dense_layer_9_dummy_metic_for_images: 130.0000 - tied_dense_layer_9_metric_learning_rate: 0.0019 - tied_dense_layer_9_metric_cca: 7.0000\n",
      "Epoch 7/20\n",
      "1000/1000 [==============================] - 4s 4ms/sample - loss: 149.9813 - tied_dense_layer_14_loss: 4.1967 - tied_dense_layer_9_loss: 4.1967 - tied_dense_layer_14_dummy_metic_for_images: 140.2500 - tied_dense_layer_14_metric_learning_rate: 0.0047 - tied_dense_layer_14_metric_cca: 7.0000 - tied_dense_layer_9_dummy_metic_for_images: 140.2500 - tied_dense_layer_9_metric_learning_rate: 0.0032 - tied_dense_layer_9_metric_cca: 7.0000\n",
      "Epoch 8/20\n",
      "1000/1000 [==============================] - 3s 3ms/sample - loss: 127.2335 - tied_dense_layer_14_loss: 3.1111 - tied_dense_layer_9_loss: 3.1111 - tied_dense_layer_14_dummy_metic_for_images: 99.6250 - tied_dense_layer_14_metric_learning_rate: 0.0084 - tied_dense_layer_14_metric_cca: 7.0000 - tied_dense_layer_9_dummy_metic_for_images: 99.6250 - tied_dense_layer_9_metric_learning_rate: 0.0054 - tied_dense_layer_9_metric_cca: 7.0000\n",
      "Epoch 9/20\n",
      "1000/1000 [==============================] - 3s 3ms/sample - loss: 99.8709 - tied_dense_layer_14_loss: 1.9168 - tied_dense_layer_9_loss: 1.9168 - tied_dense_layer_14_dummy_metic_for_images: 131.7500 - tied_dense_layer_14_metric_learning_rate: 0.0066 - tied_dense_layer_14_metric_cca: 7.0000 - tied_dense_layer_9_dummy_metic_for_images: 131.7500 - tied_dense_layer_9_metric_learning_rate: 0.0087 - tied_dense_layer_9_metric_cca: 7.0000\n",
      "Epoch 10/20\n",
      "1000/1000 [==============================] - 5s 5ms/sample - loss: 78.6530 - tied_dense_layer_14_loss: 1.0582 - tied_dense_layer_9_loss: 1.0582 - tied_dense_layer_14_dummy_metic_for_images: 140.5000 - tied_dense_layer_14_metric_learning_rate: 0.0036 - tied_dense_layer_14_metric_cca: 7.0000 - tied_dense_layer_9_dummy_metic_for_images: 140.5000 - tied_dense_layer_9_metric_learning_rate: 0.0066 - tied_dense_layer_9_metric_cca: 7.0000\n",
      "Epoch 11/20\n",
      "1000/1000 [==============================] - 4s 4ms/sample - loss: 70.0424 - tied_dense_layer_14_loss: 0.7291 - tied_dense_layer_9_loss: 0.7291 - tied_dense_layer_14_dummy_metic_for_images: 171.5000 - tied_dense_layer_14_metric_learning_rate: 0.0020 - tied_dense_layer_14_metric_cca: 7.0000 - tied_dense_layer_9_dummy_metic_for_images: 171.5000 - tied_dense_layer_9_metric_learning_rate: 0.0038 - tied_dense_layer_9_metric_cca: 7.0000\n",
      "Epoch 12/20\n",
      "1000/1000 [==============================] - 4s 4ms/sample - loss: 66.2623 - tied_dense_layer_14_loss: 0.5775 - tied_dense_layer_9_loss: 0.5775 - tied_dense_layer_14_dummy_metic_for_images: 96.8750 - tied_dense_layer_14_metric_learning_rate: 0.0011 - tied_dense_layer_14_metric_cca: 7.0000 - tied_dense_layer_9_dummy_metic_for_images: 96.8750 - tied_dense_layer_9_metric_learning_rate: 0.0023 - tied_dense_layer_9_metric_cca: 7.0000\n",
      "Epoch 13/20\n",
      "1000/1000 [==============================] - 4s 4ms/sample - loss: 64.4117 - tied_dense_layer_14_loss: 0.5150 - tied_dense_layer_9_loss: 0.5150 - tied_dense_layer_14_dummy_metic_for_images: 120.7500 - tied_dense_layer_14_metric_learning_rate: 5.9317e-04 - tied_dense_layer_14_metric_cca: 7.0000 - tied_dense_layer_9_dummy_metic_for_images: 120.7500 - tied_dense_layer_9_metric_learning_rate: 0.0013 - tied_dense_layer_9_metric_cca: 7.0000\n",
      "Epoch 14/20\n",
      "1000/1000 [==============================] - 4s 4ms/sample - loss: 63.4365 - tied_dense_layer_14_loss: 0.4880 - tied_dense_layer_9_loss: 0.4880 - tied_dense_layer_14_dummy_metic_for_images: 119.5000 - tied_dense_layer_14_metric_learning_rate: 3.2532e-04 - tied_dense_layer_14_metric_cca: 7.0000 - tied_dense_layer_9_dummy_metic_for_images: 119.5000 - tied_dense_layer_9_metric_learning_rate: 7.7468e-04 - tied_dense_layer_9_metric_cca: 7.0000\n",
      "Epoch 15/20\n"
     ]
    },
    {
     "name": "stdout",
     "output_type": "stream",
     "text": [
      "1000/1000 [==============================] - 3s 3ms/sample - loss: 62.8802 - tied_dense_layer_14_loss: 0.4658 - tied_dense_layer_9_loss: 0.4658 - tied_dense_layer_14_dummy_metic_for_images: 56.6250 - tied_dense_layer_14_metric_learning_rate: 1.7842e-04 - tied_dense_layer_14_metric_cca: 7.0000 - tied_dense_layer_9_dummy_metic_for_images: 56.6250 - tied_dense_layer_9_metric_learning_rate: 4.5419e-04 - tied_dense_layer_9_metric_cca: 7.0000\n",
      "Epoch 16/20\n",
      "1000/1000 [==============================] - 3s 3ms/sample - loss: 62.5773 - tied_dense_layer_14_loss: 0.4599 - tied_dense_layer_9_loss: 0.4599 - tied_dense_layer_14_dummy_metic_for_images: 157.2500 - tied_dense_layer_14_metric_learning_rate: 9.7853e-05 - tied_dense_layer_14_metric_cca: 7.0000 - tied_dense_layer_9_dummy_metic_for_images: 157.2500 - tied_dense_layer_9_metric_learning_rate: 2.6629e-04 - tied_dense_layer_9_metric_cca: 7.0000\n",
      "Epoch 17/20\n",
      "1000/1000 [==============================] - 3s 3ms/sample - loss: 62.4004 - tied_dense_layer_14_loss: 0.4553 - tied_dense_layer_9_loss: 0.4553 - tied_dense_layer_14_dummy_metic_for_images: 113.7500 - tied_dense_layer_14_metric_learning_rate: 5.3667e-05 - tied_dense_layer_14_metric_cca: 7.0000 - tied_dense_layer_9_dummy_metic_for_images: 113.7500 - tied_dense_layer_9_metric_learning_rate: 1.5612e-04 - tied_dense_layer_9_metric_cca: 7.0000\n",
      "Epoch 18/20\n",
      "1000/1000 [==============================] - 4s 4ms/sample - loss: 62.2923 - tied_dense_layer_14_loss: 0.4499 - tied_dense_layer_9_loss: 0.4499 - tied_dense_layer_14_dummy_metic_for_images: 154.1250 - tied_dense_layer_14_metric_learning_rate: 2.9433e-05 - tied_dense_layer_14_metric_cca: 7.0000 - tied_dense_layer_9_dummy_metic_for_images: 154.1250 - tied_dense_layer_9_metric_learning_rate: 9.1535e-05 - tied_dense_layer_9_metric_cca: 7.0000\n",
      "Epoch 19/20\n",
      "1000/1000 [==============================] - 3s 3ms/sample - loss: 62.2304 - tied_dense_layer_14_loss: 0.4473 - tied_dense_layer_9_loss: 0.4473 - tied_dense_layer_14_dummy_metic_for_images: 161.1250 - tied_dense_layer_14_metric_learning_rate: 1.6142e-05 - tied_dense_layer_14_metric_cca: 7.0000 - tied_dense_layer_9_dummy_metic_for_images: 161.1250 - tied_dense_layer_9_metric_learning_rate: 5.3667e-05 - tied_dense_layer_9_metric_cca: 7.0000\n",
      "Epoch 20/20\n",
      "1000/1000 [==============================] - 3s 3ms/sample - loss: 62.1969 - tied_dense_layer_14_loss: 0.4471 - tied_dense_layer_9_loss: 0.4471 - tied_dense_layer_14_dummy_metic_for_images: 131.2500 - tied_dense_layer_14_metric_learning_rate: 8.8531e-06 - tied_dense_layer_14_metric_cca: 7.0000 - tied_dense_layer_9_dummy_metic_for_images: 131.2500 - tied_dense_layer_9_metric_learning_rate: 3.1464e-05 - tied_dense_layer_9_metric_cca: 7.0000\n",
      "10000/10000 [==============================] - 23s 2ms/sample - loss: 61.7031 - tied_dense_layer_14_loss: 0.2066 - tied_dense_layer_9_loss: 0.2066 - tied_dense_layer_14_dummy_metic_for_images: 135.7252 - tied_dense_layer_14_metric_learning_rate: 2.9997e-07 - tied_dense_layer_14_metric_cca: 8.0914 - tied_dense_layer_9_dummy_metic_for_images: 135.7252 - tied_dense_layer_9_metric_learning_rate: 1.1397e-06 - tied_dense_layer_9_metric_cca: 8.0914\n",
      "[('loss', 61.70313674926758), ('tied_dense_layer_14_loss', 0.20656511), ('tied_dense_layer_9_loss', 0.20656511), ('tied_dense_layer_14_dummy_metic_for_images', 135.72523), ('tied_dense_layer_14_metric_learning_rate', 2.9997153e-07), ('tied_dense_layer_14_metric_cca', 8.091428), ('tied_dense_layer_9_dummy_metic_for_images', 135.72523), ('tied_dense_layer_9_metric_learning_rate', 1.1396985e-06), ('tied_dense_layer_9_metric_cca', 8.091428)]\n"
     ]
    }
   ],
   "source": [
    "#data_set = run_model.load_data_set(\"/Users/talfranji/Dropbox/C/lior_wolf/2WayNet-TF/MNIST.ini\")\n",
    "#run_model.check_data(data_set, None)\n",
    "run_model.train_and_test(\"/Users/talfranji/Dropbox/C/lior_wolf/2WayNet-TF/MNIST.ini\")"
   ]
  },
  {
   "cell_type": "code",
   "execution_count": null,
   "metadata": {},
   "outputs": [],
   "source": []
  }
 ],
 "metadata": {
  "kernelspec": {
   "display_name": "Python 3",
   "language": "python",
   "name": "python3"
  },
  "language_info": {
   "codemirror_mode": {
    "name": "ipython",
    "version": 3
   },
   "file_extension": ".py",
   "mimetype": "text/x-python",
   "name": "python",
   "nbconvert_exporter": "python",
   "pygments_lexer": "ipython3",
   "version": "3.6.8"
  }
 },
 "nbformat": 4,
 "nbformat_minor": 2
}
