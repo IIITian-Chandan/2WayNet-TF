{
 "cells": [
  {
   "cell_type": "code",
   "execution_count": null,
   "metadata": {},
   "outputs": [],
   "source": [
    "import importlib\n",
    "import layers.tied\n",
    "importlib.reload(layers)\n",
    "import tensorflow as tf\n",
    "#tf.enable_eager_execution()\n",
    "print(tf.__version__)"
   ]
  },
  {
   "cell_type": "code",
   "execution_count": null,
   "metadata": {},
   "outputs": [],
   "source": [
    "def eval_tensor(t):\n",
    "    return tf.Session().run(t)\n",
    "\n",
    "def tensor2const(t):\n",
    "    return tf.constant(eval_tensor(t))\n",
    "\n",
    "\n",
    "Rx = tensor2const(tf.random.uniform([1,100]))\n",
    "Ry = tensor2const(tf.random.uniform([1,50]))\n",
    "TDxy = layers.tied.TiedDenseLayer(units=50) \n",
    "TDxy.build(input_shape=(100,))  # must build TDxy if we want to tie TDyx to it - we need the kernel\n",
    "TDyx = layers.tied.TiedDenseLayer(units=100, tied_kernel=tf.transpose(TDxy.kernel))\n",
    "\n"
   ]
  },
  {
   "cell_type": "code",
   "execution_count": null,
   "metadata": {},
   "outputs": [],
   "source": [
    "#with tf.name_scope(\"tied\") as scope:\n",
    "#X = tf.placeholder(tf.float32, shape=(None, 100))\n",
    "#Y = tf.placeholder(tf.float32, shape=(None, 50))\n",
    "\n",
    "assert(not tf.executing_eagerly())\n",
    "inputs = tf.keras.Input(shape=(100,))  ##tensor=X)\n",
    "outputs = TDxy(inputs)\n",
    "Xreconstruct = TDyx(outputs)\n",
    "\n",
    "model = tf.keras.Model(inputs=inputs, outputs=outputs)\n",
    "#model = tf.keras.models.Sequential([TDxy])\n",
    "def loss_func(y0, y1):\n",
    "    return (tf.losses.mean_squared_error(y0, y1) *0.5+ \n",
    "            0.5 * tf.losses.mean_squared_error(inputs, Xreconstruct))\n",
    "    \n",
    "optimizer = tf.train.MomentumOptimizer(use_nesterov=True, learning_rate=0.001, momentum=0.8)\n",
    "##train_step = optimizer.minimize(loss)\n",
    "model.compile(optimizer, loss=loss_func) ##'mean_squared_error')\n",
    "\n",
    "model.fit(Rx, Ry, epochs=50,steps_per_epoch=1)"
   ]
  },
  {
   "cell_type": "code",
   "execution_count": null,
   "metadata": {},
   "outputs": [],
   "source": [
    "W = TDxy.get_weights()[0]\n",
    "#print(W.shape)\n",
    "print(Rx[0].shape)\n",
    "print (tf.matmul(Rx , W ).shape)\n",
    "print(\"way1 loss:\", eval_tensor(tf.nn.l2_loss(tf.matmul(Rx , W ) - Ry)/50))\n",
    "\n",
    "Wrev = TDyx.get_weights()[0]\n",
    "print(Wrev.shape)\n",
    "print(\"way2 loss:\", eval_tensor(tf.nn.l2_loss(tf.matmul(Ry , Wrev ) - Rx)/100))\n"
   ]
  },
  {
   "cell_type": "code",
   "execution_count": null,
   "metadata": {},
   "outputs": [],
   "source": [
    "W = TDxy.get_weights()[0]\n",
    "#print(W.shape)\n",
    "print(Rx[0].shape)\n",
    "print (tf.matmul(Rx , W ).shape)\n",
    "print(\"way1 loss:\", eval_tensor(tf.nn.l2_loss(tf.matmul(Rx , W ) - Ry)/50))\n",
    "\n",
    "Wrev = TDyx.get_weights()[0]\n",
    "print(Wrev.shape)\n",
    "print(\"way2 loss:\", eval_tensor(tf.nn.l2_loss(tf.matmul(Ry , Wrev ) - Rx)/100))\n"
   ]
  },
  {
   "cell_type": "code",
   "execution_count": null,
   "metadata": {},
   "outputs": [],
   "source": [
    "TDyx.kernel.shape"
   ]
  },
  {
   "cell_type": "code",
   "execution_count": null,
   "metadata": {},
   "outputs": [],
   "source": [
    "import tensorflow as tf\n",
    "mnist = tf.keras.datasets.mnist\n",
    "\n",
    "onehot = lambda y: tf.one_hot(y, depth=10)\n",
    "flat = lambda x : tf.reshape(x, (-1, x.shape[1] * x.shape[2]))\n",
    "(x_train, y_train_labels),(x_test, y_test_labels) = mnist.load_data()\n",
    "y_train = onehot(y_train_labels)\n",
    "y_test = onehot(y_test_labels)\n",
    "# flat may not be needed if input is a tf.dense layer\n",
    "x_train = flat(x_train)\n",
    "x_test = flat(x_test)\n",
    "print(x_train.shape, x_test.shape)"
   ]
  },
  {
   "cell_type": "code",
   "execution_count": null,
   "metadata": {},
   "outputs": [],
   "source": []
  }
 ],
 "metadata": {
  "kernelspec": {
   "display_name": "Python 3",
   "language": "python",
   "name": "python3"
  },
  "language_info": {
   "codemirror_mode": {
    "name": "ipython",
    "version": 3
   },
   "file_extension": ".py",
   "mimetype": "text/x-python",
   "name": "python",
   "nbconvert_exporter": "python",
   "pygments_lexer": "ipython3",
   "version": "3.6.8"
  }
 },
 "nbformat": 4,
 "nbformat_minor": 2
}
